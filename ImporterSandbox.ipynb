{
 "cells": [
  {
   "cell_type": "markdown",
   "metadata": {},
   "source": [
    "# Fetching observations from MET data base services\n",
    "\n",
    "This notebook serves as sandbox for fetching data from frost.met, havvarsel-frost.met and thredds.met\n",
    "\n",
    "See https://api.met.no/ for all interfaces and possible sources!!\n",
    "\n",
    "\n",
    "## Havvarsel frost\n",
    "Havvarsel frost delivers so far `temperature` measurements originated from badevann.no at seven beaches in the south of Norway (glider data integrated in the meantime, but not yet used here!). \n",
    "> Documentation:\n",
    "> API documentation for obs/badevann https://havvarsel-frost.met.no/docs/apiref#/obs%2Fbadevann/obsBadevannGet \n",
    "> Datastructure described on https://havvarsel-frost.met.no/docs/dataset_badevann\n",
    "\n",
    "\n",
    "## Thredds\n",
    "Holds netcdf files with the a bunch of different data\n",
    "\n",
    "> See the catalog: https://thredds.met.no/thredds/catalog.html\n",
    "\n",
    "We primarily use the `Ocean and Ice/met.no (OLD) ROMS NorKyst800m coastal forecasting system` to get the forecasted water temperatures\n"
   ]
  },
  {
   "cell_type": "code",
   "execution_count": 1,
   "metadata": {},
   "outputs": [],
   "source": [
    "# Importing general libraries\n",
    "import sys\n",
    "import json\n",
    "import datetime\n",
    "import requests\n",
    "\n",
    "import numpy as np\n",
    "import pandas as pd\n",
    "import matplotlib.pyplot as plt\n",
    "\n",
    "\n",
    "import netCDF4\n",
    "import pyproj as proj\n"
   ]
  },
  {
   "cell_type": "code",
   "execution_count": 2,
   "metadata": {},
   "outputs": [],
   "source": [
    "start_time = datetime.datetime.strptime(\"2021-10-10T06:00\", \"%Y-%m-%dT%H:%M\")\n",
    "end_time = datetime.datetime.strptime(\"2021-10-12T12:00\", \"%Y-%m-%dT%H:%M\")\n"
   ]
  },
  {
   "cell_type": "code",
   "execution_count": 3,
   "metadata": {},
   "outputs": [
    {
     "name": "stdout",
     "output_type": "stream",
     "text": [
      "Trying https://havvarsel-frost.met.no/api/v1/obs/badevann/get?time=2021-10-10T06:00:00Z/2021-10-12T12:00:00Z&incobs=true&buoyids=100&parameter=temperature\n",
      "  buoyid    parameter     name        lon        lat\n",
      "0    100  temperature  Sørenga  10.749700  59.900700\n"
     ]
    }
   ],
   "source": [
    "import HavvarselFrostImporter\n",
    "havvarsel = HavvarselFrostImporter.HavvarselFrostImporter(start_time,end_time)\n",
    "df_loc, df = havvarsel.data(100)"
   ]
  },
  {
   "cell_type": "code",
   "execution_count": 4,
   "metadata": {},
   "outputs": [],
   "source": [
    "lon = float(df_loc[\"lon\"])\n",
    "lat = float(df_loc[\"lat\"])\n",
    "start_time = df.index[0].to_pydatetime().replace(tzinfo=None)\n",
    "end_time = df.index[-1].to_pydatetime().replace(tzinfo=None)"
   ]
  },
  {
   "cell_type": "code",
   "execution_count": 5,
   "metadata": {},
   "outputs": [],
   "source": [
    "import NorKystImporter\n",
    "norkyst = NorKystImporter.NorKystImporter(start_time, end_time)"
   ]
  },
  {
   "cell_type": "code",
   "execution_count": 6,
   "metadata": {},
   "outputs": [
    {
     "name": "stdout",
     "output_type": "stream",
     "text": [
      "Processing  https://thredds.met.no/thredds/dodsC/fou-hi/norkyst800m-1h/NorKyst-800m_ZDEPTHS_his.an.2021101000.nc\n",
      "Coordinates model (x,y= 544,180): 59.898461480861215, 10.740797814175055\n",
      "Processing  https://thredds.met.no/thredds/dodsC/fou-hi/norkyst800m-1h/NorKyst-800m_ZDEPTHS_his.an.2021101100.nc\n",
      "Processing  https://thredds.met.no/thredds/dodsC/fou-hi/norkyst800m-1h/NorKyst-800m_ZDEPTHS_his.an.2021101200.nc\n"
     ]
    }
   ],
   "source": [
    "norkyst_df = norkyst.norkyst_data(\"temperature\",lon,lat)"
   ]
  },
  {
   "cell_type": "code",
   "execution_count": 10,
   "metadata": {},
   "outputs": [],
   "source": [
    "from importlib import reload"
   ]
  },
  {
   "cell_type": "code",
   "execution_count": 11,
   "metadata": {},
   "outputs": [],
   "source": [
    "reload(PPImporter)\n",
    "pp = PPImporter.PPImporter(start_time, end_time)"
   ]
  },
  {
   "cell_type": "code",
   "execution_count": 12,
   "metadata": {},
   "outputs": [
    {
     "name": "stdout",
     "output_type": "stream",
     "text": [
      "Filename timestamp based on start_time: 2021101006\n",
      "Filename timestamp based on end_time: 2021101211\n",
      "Processing https://thredds.met.no/thredds/dodsC/metpparchive/2021/10/10/met_analysis_1_0km_nordic_20211010T06Z.nc\n",
      "Coordinates model (x,y= 660,767): 59.89720311267746, 10.745418590272147\n",
      "Processing  https://thredds.met.no/thredds/dodsC/metpparchive/2021/10/10/met_analysis_1_0km_nordic_20211010T06Z.nc\n",
      "Processing  https://thredds.met.no/thredds/dodsC/metpparchive/2021/10/10/met_analysis_1_0km_nordic_20211010T07Z.nc\n",
      "Processing  https://thredds.met.no/thredds/dodsC/metpparchive/2021/10/10/met_analysis_1_0km_nordic_20211010T08Z.nc\n",
      "Processing  https://thredds.met.no/thredds/dodsC/metpparchive/2021/10/10/met_analysis_1_0km_nordic_20211010T09Z.nc\n",
      "Processing  https://thredds.met.no/thredds/dodsC/metpparchive/2021/10/10/met_analysis_1_0km_nordic_20211010T10Z.nc\n",
      "Processing  https://thredds.met.no/thredds/dodsC/metpparchive/2021/10/10/met_analysis_1_0km_nordic_20211010T11Z.nc\n",
      "Processing  https://thredds.met.no/thredds/dodsC/metpparchive/2021/10/10/met_analysis_1_0km_nordic_20211010T12Z.nc\n",
      "Processing  https://thredds.met.no/thredds/dodsC/metpparchive/2021/10/10/met_analysis_1_0km_nordic_20211010T13Z.nc\n",
      "Processing  https://thredds.met.no/thredds/dodsC/metpparchive/2021/10/10/met_analysis_1_0km_nordic_20211010T14Z.nc\n",
      "Processing  https://thredds.met.no/thredds/dodsC/metpparchive/2021/10/10/met_analysis_1_0km_nordic_20211010T15Z.nc\n",
      "Processing  https://thredds.met.no/thredds/dodsC/metpparchive/2021/10/10/met_analysis_1_0km_nordic_20211010T16Z.nc\n",
      "Processing  https://thredds.met.no/thredds/dodsC/metpparchive/2021/10/10/met_analysis_1_0km_nordic_20211010T17Z.nc\n",
      "Processing  https://thredds.met.no/thredds/dodsC/metpparchive/2021/10/10/met_analysis_1_0km_nordic_20211010T18Z.nc\n",
      "Processing  https://thredds.met.no/thredds/dodsC/metpparchive/2021/10/10/met_analysis_1_0km_nordic_20211010T19Z.nc\n",
      "Processing  https://thredds.met.no/thredds/dodsC/metpparchive/2021/10/10/met_analysis_1_0km_nordic_20211010T20Z.nc\n",
      "Processing  https://thredds.met.no/thredds/dodsC/metpparchive/2021/10/10/met_analysis_1_0km_nordic_20211010T21Z.nc\n",
      "Processing  https://thredds.met.no/thredds/dodsC/metpparchive/2021/10/10/met_analysis_1_0km_nordic_20211010T22Z.nc\n",
      "Processing  https://thredds.met.no/thredds/dodsC/metpparchive/2021/10/10/met_analysis_1_0km_nordic_20211010T23Z.nc\n",
      "Processing  https://thredds.met.no/thredds/dodsC/metpparchive/2021/10/11/met_analysis_1_0km_nordic_20211011T00Z.nc\n",
      "Processing  https://thredds.met.no/thredds/dodsC/metpparchive/2021/10/11/met_analysis_1_0km_nordic_20211011T01Z.nc\n",
      "Processing  https://thredds.met.no/thredds/dodsC/metpparchive/2021/10/11/met_analysis_1_0km_nordic_20211011T02Z.nc\n",
      "Processing  https://thredds.met.no/thredds/dodsC/metpparchive/2021/10/11/met_analysis_1_0km_nordic_20211011T03Z.nc\n",
      "Processing  https://thredds.met.no/thredds/dodsC/metpparchive/2021/10/11/met_analysis_1_0km_nordic_20211011T04Z.nc\n",
      "Processing  https://thredds.met.no/thredds/dodsC/metpparchive/2021/10/11/met_analysis_1_0km_nordic_20211011T05Z.nc\n",
      "Processing  https://thredds.met.no/thredds/dodsC/metpparchive/2021/10/11/met_analysis_1_0km_nordic_20211011T06Z.nc\n",
      "Processing  https://thredds.met.no/thredds/dodsC/metpparchive/2021/10/11/met_analysis_1_0km_nordic_20211011T07Z.nc\n",
      "Processing  https://thredds.met.no/thredds/dodsC/metpparchive/2021/10/11/met_analysis_1_0km_nordic_20211011T08Z.nc\n",
      "Processing  https://thredds.met.no/thredds/dodsC/metpparchive/2021/10/11/met_analysis_1_0km_nordic_20211011T09Z.nc\n",
      "Processing  https://thredds.met.no/thredds/dodsC/metpparchive/2021/10/11/met_analysis_1_0km_nordic_20211011T10Z.nc\n",
      "Processing  https://thredds.met.no/thredds/dodsC/metpparchive/2021/10/11/met_analysis_1_0km_nordic_20211011T11Z.nc\n",
      "Processing  https://thredds.met.no/thredds/dodsC/metpparchive/2021/10/11/met_analysis_1_0km_nordic_20211011T12Z.nc\n",
      "Processing  https://thredds.met.no/thredds/dodsC/metpparchive/2021/10/11/met_analysis_1_0km_nordic_20211011T13Z.nc\n",
      "Processing  https://thredds.met.no/thredds/dodsC/metpparchive/2021/10/11/met_analysis_1_0km_nordic_20211011T14Z.nc\n",
      "Processing  https://thredds.met.no/thredds/dodsC/metpparchive/2021/10/11/met_analysis_1_0km_nordic_20211011T15Z.nc\n",
      "Processing  https://thredds.met.no/thredds/dodsC/metpparchive/2021/10/11/met_analysis_1_0km_nordic_20211011T16Z.nc\n",
      "Processing  https://thredds.met.no/thredds/dodsC/metpparchive/2021/10/11/met_analysis_1_0km_nordic_20211011T17Z.nc\n",
      "Processing  https://thredds.met.no/thredds/dodsC/metpparchive/2021/10/11/met_analysis_1_0km_nordic_20211011T18Z.nc\n",
      "Processing  https://thredds.met.no/thredds/dodsC/metpparchive/2021/10/11/met_analysis_1_0km_nordic_20211011T19Z.nc\n",
      "Processing  https://thredds.met.no/thredds/dodsC/metpparchive/2021/10/11/met_analysis_1_0km_nordic_20211011T20Z.nc\n",
      "Processing  https://thredds.met.no/thredds/dodsC/metpparchive/2021/10/11/met_analysis_1_0km_nordic_20211011T21Z.nc\n",
      "Processing  https://thredds.met.no/thredds/dodsC/metpparchive/2021/10/11/met_analysis_1_0km_nordic_20211011T22Z.nc\n",
      "Processing  https://thredds.met.no/thredds/dodsC/metpparchive/2021/10/11/met_analysis_1_0km_nordic_20211011T23Z.nc\n",
      "Processing  https://thredds.met.no/thredds/dodsC/metpparchive/2021/10/12/met_analysis_1_0km_nordic_20211012T00Z.nc\n",
      "Processing  https://thredds.met.no/thredds/dodsC/metpparchive/2021/10/12/met_analysis_1_0km_nordic_20211012T01Z.nc\n",
      "Processing  https://thredds.met.no/thredds/dodsC/metpparchive/2021/10/12/met_analysis_1_0km_nordic_20211012T02Z.nc\n",
      "Processing  https://thredds.met.no/thredds/dodsC/metpparchive/2021/10/12/met_analysis_1_0km_nordic_20211012T03Z.nc\n",
      "Processing  https://thredds.met.no/thredds/dodsC/metpparchive/2021/10/12/met_analysis_1_0km_nordic_20211012T04Z.nc\n",
      "Processing  https://thredds.met.no/thredds/dodsC/metpparchive/2021/10/12/met_analysis_1_0km_nordic_20211012T05Z.nc\n",
      "Processing  https://thredds.met.no/thredds/dodsC/metpparchive/2021/10/12/met_analysis_1_0km_nordic_20211012T06Z.nc\n",
      "Processing  https://thredds.met.no/thredds/dodsC/metpparchive/2021/10/12/met_analysis_1_0km_nordic_20211012T07Z.nc\n",
      "Processing  https://thredds.met.no/thredds/dodsC/metpparchive/2021/10/12/met_analysis_1_0km_nordic_20211012T08Z.nc\n",
      "Processing  https://thredds.met.no/thredds/dodsC/metpparchive/2021/10/12/met_analysis_1_0km_nordic_20211012T09Z.nc\n",
      "Processing  https://thredds.met.no/thredds/dodsC/metpparchive/2021/10/12/met_analysis_1_0km_nordic_20211012T10Z.nc\n",
      "Processing  https://thredds.met.no/thredds/dodsC/metpparchive/2021/10/12/met_analysis_1_0km_nordic_20211012T11Z.nc\n",
      "Processing  https://thredds.met.no/thredds/dodsC/metpparchive/2021/10/12/met_analysis_1_0km_nordic_20211012T12Z.nc\n",
      "Processing  https://thredds.met.no/thredds/dodsC/metpparchive/2021/10/12/met_analysis_1_0km_nordic_20211012T13Z.nc\n",
      "Processing  https://thredds.met.no/thredds/dodsC/metpparchive/2021/10/12/met_analysis_1_0km_nordic_20211012T14Z.nc\n",
      "Processing  https://thredds.met.no/thredds/dodsC/metpparchive/2021/10/12/met_analysis_1_0km_nordic_20211012T15Z.nc\n",
      "Processing  https://thredds.met.no/thredds/dodsC/metpparchive/2021/10/12/met_analysis_1_0km_nordic_20211012T16Z.nc\n",
      "Processing  https://thredds.met.no/thredds/dodsC/metpparchive/2021/10/12/met_analysis_1_0km_nordic_20211012T17Z.nc\n",
      "Processing  https://thredds.met.no/thredds/dodsC/metpparchive/2021/10/12/met_analysis_1_0km_nordic_20211012T18Z.nc\n",
      "Processing  https://thredds.met.no/thredds/dodsC/metpparchive/2021/10/12/met_analysis_1_0km_nordic_20211012T19Z.nc\n",
      "Processing  https://thredds.met.no/thredds/dodsC/metpparchive/2021/10/12/met_analysis_1_0km_nordic_20211012T20Z.nc\n",
      "Processing  https://thredds.met.no/thredds/dodsC/metpparchive/2021/10/12/met_analysis_1_0km_nordic_20211012T21Z.nc\n",
      "Processing  https://thredds.met.no/thredds/dodsC/metpparchive/2021/10/12/met_analysis_1_0km_nordic_20211012T22Z.nc\n",
      "Processing  https://thredds.met.no/thredds/dodsC/metpparchive/2021/10/12/met_analysis_1_0km_nordic_20211012T23Z.nc\n",
      "Processing  https://thredds.met.no/thredds/dodsC/metpparchive/2021/10/13/met_analysis_1_0km_nordic_20211013T00Z.nc\n",
      "Processing  https://thredds.met.no/thredds/dodsC/metpparchive/2021/10/13/met_analysis_1_0km_nordic_20211013T01Z.nc\n",
      "Processing  https://thredds.met.no/thredds/dodsC/metpparchive/2021/10/13/met_analysis_1_0km_nordic_20211013T02Z.nc\n",
      "Processing  https://thredds.met.no/thredds/dodsC/metpparchive/2021/10/13/met_analysis_1_0km_nordic_20211013T03Z.nc\n",
      "Processing  https://thredds.met.no/thredds/dodsC/metpparchive/2021/10/13/met_analysis_1_0km_nordic_20211013T04Z.nc\n",
      "Processing  https://thredds.met.no/thredds/dodsC/metpparchive/2021/10/13/met_analysis_1_0km_nordic_20211013T05Z.nc\n",
      "Processing  https://thredds.met.no/thredds/dodsC/metpparchive/2021/10/13/met_analysis_1_0km_nordic_20211013T06Z.nc\n",
      "Processing  https://thredds.met.no/thredds/dodsC/metpparchive/2021/10/13/met_analysis_1_0km_nordic_20211013T07Z.nc\n",
      "Processing  https://thredds.met.no/thredds/dodsC/metpparchive/2021/10/13/met_analysis_1_0km_nordic_20211013T08Z.nc\n",
      "Processing  https://thredds.met.no/thredds/dodsC/metpparchive/2021/10/13/met_analysis_1_0km_nordic_20211013T09Z.nc\n",
      "Processing  https://thredds.met.no/thredds/dodsC/metpparchive/2021/10/13/met_analysis_1_0km_nordic_20211013T10Z.nc\n",
      "Processing  https://thredds.met.no/thredds/dodsC/metpparchive/2021/10/13/met_analysis_1_0km_nordic_20211013T11Z.nc\n",
      "Processing  https://thredds.met.no/thredds/dodsC/metpparchive/2021/10/13/met_analysis_1_0km_nordic_20211013T12Z.nc\n",
      "Processing  https://thredds.met.no/thredds/dodsC/metpparchive/2021/10/13/met_analysis_1_0km_nordic_20211013T13Z.nc\n",
      "Processing  https://thredds.met.no/thredds/dodsC/metpparchive/2021/10/13/met_analysis_1_0km_nordic_20211013T14Z.nc\n",
      "Processing  https://thredds.met.no/thredds/dodsC/metpparchive/2021/10/13/met_analysis_1_0km_nordic_20211013T15Z.nc\n",
      "Processing  https://thredds.met.no/thredds/dodsC/metpparchive/2021/10/13/met_analysis_1_0km_nordic_20211013T16Z.nc\n",
      "Processing  https://thredds.met.no/thredds/dodsC/metpparchive/2021/10/13/met_analysis_1_0km_nordic_20211013T17Z.nc\n",
      "Processing  https://thredds.met.no/thredds/dodsC/metpparchive/2021/10/13/met_analysis_1_0km_nordic_20211013T18Z.nc\n",
      "Processing  https://thredds.met.no/thredds/dodsC/metpparchive/2021/10/13/met_analysis_1_0km_nordic_20211013T19Z.nc\n",
      "Processing  https://thredds.met.no/thredds/dodsC/metpparchive/2021/10/13/met_analysis_1_0km_nordic_20211013T20Z.nc\n",
      "Processing  https://thredds.met.no/thredds/dodsC/metpparchive/2021/10/13/met_analysis_1_0km_nordic_20211013T21Z.nc\n",
      "Processing  https://thredds.met.no/thredds/dodsC/metpparchive/2021/10/13/met_analysis_1_0km_nordic_20211013T22Z.nc\n",
      "Processing  https://thredds.met.no/thredds/dodsC/metpparchive/2021/10/13/met_analysis_1_0km_nordic_20211013T23Z.nc\n",
      "Processing  https://thredds.met.no/thredds/dodsC/metpparchive/2021/10/14/met_analysis_1_0km_nordic_20211014T00Z.nc\n",
      "Processing  https://thredds.met.no/thredds/dodsC/metpparchive/2021/10/14/met_analysis_1_0km_nordic_20211014T01Z.nc\n",
      "Processing  https://thredds.met.no/thredds/dodsC/metpparchive/2021/10/14/met_analysis_1_0km_nordic_20211014T02Z.nc\n",
      "Processing  https://thredds.met.no/thredds/dodsC/metpparchive/2021/10/14/met_analysis_1_0km_nordic_20211014T03Z.nc\n",
      "Processing  https://thredds.met.no/thredds/dodsC/metpparchive/2021/10/14/met_analysis_1_0km_nordic_20211014T04Z.nc\n",
      "Processing  https://thredds.met.no/thredds/dodsC/metpparchive/2021/10/14/met_analysis_1_0km_nordic_20211014T05Z.nc\n"
     ]
    }
   ],
   "source": [
    "pp_df = pp.pp_data([\"air_temperature_2m\"],lon,lat)"
   ]
  },
  {
   "cell_type": "code",
   "execution_count": 13,
   "metadata": {},
   "outputs": [
    {
     "data": {
      "text/html": [
       "<div>\n",
       "<style scoped>\n",
       "    .dataframe tbody tr th:only-of-type {\n",
       "        vertical-align: middle;\n",
       "    }\n",
       "\n",
       "    .dataframe tbody tr th {\n",
       "        vertical-align: top;\n",
       "    }\n",
       "\n",
       "    .dataframe thead th {\n",
       "        text-align: right;\n",
       "    }\n",
       "</style>\n",
       "<table border=\"1\" class=\"dataframe\">\n",
       "  <thead>\n",
       "    <tr style=\"text-align: right;\">\n",
       "      <th></th>\n",
       "      <th>air_temperature_2m</th>\n",
       "    </tr>\n",
       "    <tr>\n",
       "      <th>referenceTime</th>\n",
       "      <th></th>\n",
       "    </tr>\n",
       "  </thead>\n",
       "  <tbody>\n",
       "    <tr>\n",
       "      <th>2021-10-10 06:00:00+00:00</th>\n",
       "      <td>284.421204</td>\n",
       "    </tr>\n",
       "    <tr>\n",
       "      <th>2021-10-10 07:00:00+00:00</th>\n",
       "      <td>284.653046</td>\n",
       "    </tr>\n",
       "    <tr>\n",
       "      <th>2021-10-10 08:00:00+00:00</th>\n",
       "      <td>284.960754</td>\n",
       "    </tr>\n",
       "    <tr>\n",
       "      <th>2021-10-10 09:00:00+00:00</th>\n",
       "      <td>285.314545</td>\n",
       "    </tr>\n",
       "    <tr>\n",
       "      <th>2021-10-10 10:00:00+00:00</th>\n",
       "      <td>285.584534</td>\n",
       "    </tr>\n",
       "    <tr>\n",
       "      <th>...</th>\n",
       "      <td>...</td>\n",
       "    </tr>\n",
       "    <tr>\n",
       "      <th>2021-10-14 00:00:00+00:00</th>\n",
       "      <td>280.768097</td>\n",
       "    </tr>\n",
       "    <tr>\n",
       "      <th>2021-10-14 01:00:00+00:00</th>\n",
       "      <td>280.676086</td>\n",
       "    </tr>\n",
       "    <tr>\n",
       "      <th>2021-10-14 02:00:00+00:00</th>\n",
       "      <td>280.535980</td>\n",
       "    </tr>\n",
       "    <tr>\n",
       "      <th>2021-10-14 03:00:00+00:00</th>\n",
       "      <td>280.574524</td>\n",
       "    </tr>\n",
       "    <tr>\n",
       "      <th>2021-10-14 04:00:00+00:00</th>\n",
       "      <td>280.539124</td>\n",
       "    </tr>\n",
       "  </tbody>\n",
       "</table>\n",
       "<p>95 rows × 1 columns</p>\n",
       "</div>"
      ],
      "text/plain": [
       "                           air_temperature_2m\n",
       "referenceTime                                \n",
       "2021-10-10 06:00:00+00:00          284.421204\n",
       "2021-10-10 07:00:00+00:00          284.653046\n",
       "2021-10-10 08:00:00+00:00          284.960754\n",
       "2021-10-10 09:00:00+00:00          285.314545\n",
       "2021-10-10 10:00:00+00:00          285.584534\n",
       "...                                       ...\n",
       "2021-10-14 00:00:00+00:00          280.768097\n",
       "2021-10-14 01:00:00+00:00          280.676086\n",
       "2021-10-14 02:00:00+00:00          280.535980\n",
       "2021-10-14 03:00:00+00:00          280.574524\n",
       "2021-10-14 04:00:00+00:00          280.539124\n",
       "\n",
       "[95 rows x 1 columns]"
      ]
     },
     "execution_count": 13,
     "metadata": {},
     "output_type": "execute_result"
    }
   ],
   "source": [
    "pp_df"
   ]
  },
  {
   "cell_type": "code",
   "execution_count": null,
   "metadata": {},
   "outputs": [],
   "source": []
  }
 ],
 "metadata": {
  "interpreter": {
   "hash": "9eb29a7076c7276605e5eb8d51f245f43dbf04c428619f9ae82a0981fd35b6e6"
  },
  "kernelspec": {
   "display_name": "Python 3.7.10 64-bit ('datadriven': conda)",
   "name": "python3"
  },
  "language_info": {
   "codemirror_mode": {
    "name": "ipython",
    "version": 3
   },
   "file_extension": ".py",
   "mimetype": "text/x-python",
   "name": "python",
   "nbconvert_exporter": "python",
   "pygments_lexer": "ipython3",
   "version": "3.7.10"
  },
  "metadata": {
   "interpreter": {
    "hash": "9eb29a7076c7276605e5eb8d51f245f43dbf04c428619f9ae82a0981fd35b6e6"
   }
  },
  "orig_nbformat": 2
 },
 "nbformat": 4,
 "nbformat_minor": 2
}
