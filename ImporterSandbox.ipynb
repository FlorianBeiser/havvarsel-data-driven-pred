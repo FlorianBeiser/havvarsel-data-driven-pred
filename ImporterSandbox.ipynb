{
 "metadata": {
  "language_info": {
   "codemirror_mode": {
    "name": "ipython",
    "version": 3
   },
   "file_extension": ".py",
   "mimetype": "text/x-python",
   "name": "python",
   "nbconvert_exporter": "python",
   "pygments_lexer": "ipython3",
   "version": "3.7.10"
  },
  "orig_nbformat": 2,
  "kernelspec": {
   "name": "python3",
   "display_name": "Python 3.7.10 64-bit ('datadriven': conda)"
  },
  "metadata": {
   "interpreter": {
    "hash": "9eb29a7076c7276605e5eb8d51f245f43dbf04c428619f9ae82a0981fd35b6e6"
   }
  },
  "interpreter": {
   "hash": "9eb29a7076c7276605e5eb8d51f245f43dbf04c428619f9ae82a0981fd35b6e6"
  }
 },
 "nbformat": 4,
 "nbformat_minor": 2,
 "cells": [
  {
   "cell_type": "markdown",
   "source": [
    "# Fetching observations from MET data base services\n",
    "\n",
    "This notebook serves as sandbox for fetching data from frost.met, havvarsel-frost.met and thredds.met\n",
    "\n",
    "See https://api.met.no/ for all interfaces and possible sources!!\n",
    "\n",
    "\n",
    "## Havvarsel frost\n",
    "Havvarsel frost delivers so far `temperature` measurements originated from badevann.no at seven beaches in the south of Norway (glider data integrated in the meantime, but not yet used here!). \n",
    "> Documentation:\n",
    "> API documentation for obs/badevann https://havvarsel-frost.met.no/docs/apiref#/obs%2Fbadevann/obsBadevannGet \n",
    "> Datastructure described on https://havvarsel-frost.met.no/docs/dataset_badevann\n",
    "\n",
    "\n",
    "## Frost\n",
    "From the frost server we retrieve observations from the `n` closest weather observation stations and include the values \n",
    "- `air_temperature`\n",
    "- `mean(surface_downwelling_shortwave_flux_in_air PT1H)`\n",
    "- `wind_speed`\n",
    "- `relative_humidity`\n",
    "- `sum(duration_of_sunshinePT1H)`\n",
    "- `cloud_area_fraction` (which takes values from 0 = no clouds to 8 = fully clouded) \n",
    "- ...\n",
    "\n",
    "> Documentation:\n",
    "> API documentation for observations on https://frost.met.no/api.html#!/observations/observations \n",
    "> Available elements (params) are listed on https://frost.met.no/elementtable \n",
    "> Examples on Frost data manipulation with Python on https://frost.met.no/python_example.html\n",
    ">\n",
    "> See also:\n",
    "> Complete documentation at https://frost.met.no/howto.html \n",
    "> Complete frost API reference at https://frost.met.no/api.html \n",
    "\n",
    "## Thredds\n",
    "Holds netcdf files with the a bunch of different data\n",
    "\n",
    "> See the catalog: https://thredds.met.no/thredds/catalog.html\n",
    "\n",
    "We primarily use the `Ocean and Ice/met.no (OLD) ROMS NorKyst800m coastal forecasting system` to get the forecasted water temperatures\n",
    "\n",
    "\n",
    "TODO processing:\n",
    " - Tune processing and storing of observational data sets (to suite whatever code that will use the data sets)"
   ],
   "metadata": {}
  },
  {
   "cell_type": "code",
   "execution_count": 1,
   "source": [
    "# Importing general libraries\n",
    "import sys\n",
    "import json\n",
    "import datetime\n",
    "import requests\n",
    "from traceback import format_exc\n",
    "\n",
    "import numpy as np\n",
    "import pandas as pd\n",
    "import matplotlib.pyplot as plt\n",
    "\n",
    "\n",
    "import netCDF4\n",
    "import pyproj as proj\n"
   ],
   "outputs": [],
   "metadata": {}
  },
  {
   "cell_type": "code",
   "execution_count": 2,
   "source": [
    "nc = netCDF4.Dataset(\"https://thredds.met.no/thredds/dodsC/metpparchive/2021/09/09/met_forecast_1_0km_nordic_20210909T00Z.nc\")"
   ],
   "outputs": [],
   "metadata": {}
  },
  {
   "cell_type": "code",
   "execution_count": 3,
   "source": [
    "nc.variables.keys()"
   ],
   "outputs": [
    {
     "output_type": "execute_result",
     "data": {
      "text/plain": [
       "dict_keys(['forecast_reference_time', 'projection_lcc', 'time', 'x', 'y', 'altitude', 'land_area_fraction', 'latitude', 'longitude', 'air_temperature_2m', 'precipitation_amount', 'wind_direction_10m', 'wind_speed_10m', 'wind_speed_of_gust', 'cloud_area_fraction', 'air_pressure_at_sea_level', 'integral_of_surface_downwelling_shortwave_flux_in_air_wrt_time', 'relative_humidity_2m'])"
      ]
     },
     "metadata": {},
     "execution_count": 3
    }
   ],
   "metadata": {}
  }
 ]
}