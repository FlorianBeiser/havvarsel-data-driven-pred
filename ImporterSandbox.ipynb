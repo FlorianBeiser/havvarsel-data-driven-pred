{
 "cells": [
  {
   "cell_type": "markdown",
   "metadata": {},
   "source": [
    "# Fetching observations from MET data base services\n",
    "\n",
    "This notebook serves as sandbox for fetching data from frost.met, havvarsel-frost.met and thredds.met\n",
    "\n",
    "See https://api.met.no/ for all interfaces and possible sources!!\n",
    "\n",
    "\n",
    "## Havvarsel frost\n",
    "Havvarsel frost delivers so far `temperature` measurements originated from badevann.no at seven beaches in the south of Norway (glider data integrated in the meantime, but not yet used here!). \n",
    "> Documentation:\n",
    "> API documentation for obs/badevann https://havvarsel-frost.met.no/docs/apiref#/obs%2Fbadevann/obsBadevannGet \n",
    "> Datastructure described on https://havvarsel-frost.met.no/docs/dataset_badevann\n",
    "\n",
    "\n",
    "## Thredds\n",
    "Holds netcdf files with the a bunch of different data\n",
    "\n",
    "> See the catalog: https://thredds.met.no/thredds/catalog.html\n",
    "\n",
    "We primarily use the `Ocean and Ice/met.no (OLD) ROMS NorKyst800m coastal forecasting system` to get the forecasted water temperatures\n"
   ]
  },
  {
   "cell_type": "code",
   "execution_count": 1,
   "metadata": {},
   "outputs": [],
   "source": [
    "# Importing general libraries\n",
    "import sys\n",
    "import json\n",
    "import datetime, time \n",
    "import requests\n",
    "\n",
    "import numpy as np\n",
    "import pandas as pd\n",
    "import matplotlib.pyplot as plt\n",
    "\n",
    "import netCDF4\n",
    "import pyproj as proj\n",
    "\n",
    "from importlib import reload"
   ]
  },
  {
   "cell_type": "code",
   "execution_count": 2,
   "metadata": {},
   "outputs": [],
   "source": [
    "start_time = datetime.datetime.strptime(\"2021-10-10T00:00\", \"%Y-%m-%dT%H:%M\")\n",
    "end_time = datetime.datetime.strptime(\"2021-10-12T12:00\", \"%Y-%m-%dT%H:%M\")"
   ]
  },
  {
   "cell_type": "code",
   "execution_count": 3,
   "metadata": {},
   "outputs": [],
   "source": [
    "times = pd.date_range(start_time, end_time, freq=\"H\")\n",
    "times = times.tz_localize(\"UTC\")\n",
    "timeseries = pd.DataFrame(times, columns=[\"time\"])"
   ]
  },
  {
   "cell_type": "code",
   "execution_count": 4,
   "metadata": {},
   "outputs": [
    {
     "name": "stdout",
     "output_type": "stream",
     "text": [
      "- 09:53:12 -\n",
      "Trying https://havvarsel-frost.met.no/api/v1/obs/badevann/get?time=2021-10-10T00:00:00Z/2021-10-12T12:00:00Z&incobs=true&buoyids=100&parameter=temperature\n",
      "  buoyid    parameter     name        lon        lat\n",
      "0    100  temperature  Sørenga  10.749700  59.900700\n"
     ]
    }
   ],
   "source": [
    "import HavvarselFrostImporter\n",
    "havvarsel = HavvarselFrostImporter.HavvarselFrostImporter(start_time,end_time)\n",
    "havvarsel_info, havvarsel_timeseries = havvarsel.data(100)"
   ]
  },
  {
   "cell_type": "code",
   "execution_count": 5,
   "metadata": {},
   "outputs": [],
   "source": [
    "lon = float(havvarsel_info[\"lon\"])\n",
    "lat = float(havvarsel_info[\"lat\"])\n",
    "start_time = havvarsel_timeseries.index[0].to_pydatetime().replace(tzinfo=None)\n",
    "end_time = havvarsel_timeseries.index[-1].to_pydatetime().replace(tzinfo=None)"
   ]
  },
  {
   "cell_type": "code",
   "execution_count": 6,
   "metadata": {},
   "outputs": [],
   "source": [
    "import NorKystImporter\n",
    "norkyst = NorKystImporter.NorKystImporter(start_time, end_time)"
   ]
  },
  {
   "cell_type": "code",
   "execution_count": 7,
   "metadata": {},
   "outputs": [
    {
     "name": "stdout",
     "output_type": "stream",
     "text": [
      "- 09:53:12 -\n",
      "Coordinates model (x,y= 544,180): 59.898461480861215, 10.740797814175055\n",
      "- 09:53:15 -\n",
      "Processing  https://thredds.met.no/thredds/dodsC/fou-hi/norkyst800m-1h/NorKyst-800m_ZDEPTHS_his.an.2021101000.nc\n",
      "- 09:53:19 -\n",
      "Processing  https://thredds.met.no/thredds/dodsC/fou-hi/norkyst800m-1h/NorKyst-800m_ZDEPTHS_his.an.2021101100.nc\n",
      "- 09:53:19 -\n",
      "Processing  https://thredds.met.no/thredds/dodsC/fou-hi/norkyst800m-1h/NorKyst-800m_ZDEPTHS_his.an.2021101200.nc\n"
     ]
    }
   ],
   "source": [
    "norkyst_df = norkyst.norkyst_data(\"temperature\",lon,lat)"
   ]
  },
  {
   "cell_type": "code",
   "execution_count": 8,
   "metadata": {},
   "outputs": [],
   "source": [
    "import PPImporter\n",
    "pp = PPImporter.PPImporter(start_time, end_time)"
   ]
  },
  {
   "cell_type": "code",
   "execution_count": 11,
   "metadata": {},
   "outputs": [
    {
     "name": "stdout",
     "output_type": "stream",
     "text": [
      "Filename timestamp based on start_time: 2021101000\n",
      "Filename timestamp based on end_time: 2021101211\n",
      "- 09:53:59 -\n",
      "Processing https://thredds.met.no/thredds/dodsC/metpparchive/2021/10/10/met_analysis_1_0km_nordic_20211010T00Z.nc\n",
      "Coordinates model (x,y= 660,767): 59.89720311267746, 10.745418590272147\n",
      "- 09:54:02 -\n",
      "Processing  https://thredds.met.no/thredds/dodsC/metpparchive/2021/10/10/met_analysis_1_0km_nordic_20211010T00Z.nc\n",
      "- 09:54:02 -\n",
      "Processing  https://thredds.met.no/thredds/dodsC/metpparchive/2021/10/10/met_analysis_1_0km_nordic_20211010T01Z.nc\n",
      "- 09:54:02 -\n",
      "Processing  https://thredds.met.no/thredds/dodsC/metpparchive/2021/10/10/met_analysis_1_0km_nordic_20211010T02Z.nc\n",
      "- 09:54:02 -\n",
      "Processing  https://thredds.met.no/thredds/dodsC/metpparchive/2021/10/10/met_analysis_1_0km_nordic_20211010T03Z.nc\n",
      "- 09:54:02 -\n",
      "Processing  https://thredds.met.no/thredds/dodsC/metpparchive/2021/10/10/met_analysis_1_0km_nordic_20211010T04Z.nc\n",
      "- 09:54:02 -\n",
      "Processing  https://thredds.met.no/thredds/dodsC/metpparchive/2021/10/10/met_analysis_1_0km_nordic_20211010T05Z.nc\n",
      "- 09:54:02 -\n",
      "Processing  https://thredds.met.no/thredds/dodsC/metpparchive/2021/10/10/met_analysis_1_0km_nordic_20211010T06Z.nc\n",
      "- 09:54:03 -\n",
      "Processing  https://thredds.met.no/thredds/dodsC/metpparchive/2021/10/10/met_analysis_1_0km_nordic_20211010T07Z.nc\n",
      "- 09:54:03 -\n",
      "Processing  https://thredds.met.no/thredds/dodsC/metpparchive/2021/10/10/met_analysis_1_0km_nordic_20211010T08Z.nc\n",
      "- 09:54:03 -\n",
      "Processing  https://thredds.met.no/thredds/dodsC/metpparchive/2021/10/10/met_analysis_1_0km_nordic_20211010T09Z.nc\n",
      "- 09:54:03 -\n",
      "Processing  https://thredds.met.no/thredds/dodsC/metpparchive/2021/10/10/met_analysis_1_0km_nordic_20211010T10Z.nc\n",
      "- 09:54:03 -\n",
      "Processing  https://thredds.met.no/thredds/dodsC/metpparchive/2021/10/10/met_analysis_1_0km_nordic_20211010T11Z.nc\n",
      "- 09:54:03 -\n",
      "Processing  https://thredds.met.no/thredds/dodsC/metpparchive/2021/10/10/met_analysis_1_0km_nordic_20211010T12Z.nc\n",
      "- 09:54:04 -\n",
      "Processing  https://thredds.met.no/thredds/dodsC/metpparchive/2021/10/10/met_analysis_1_0km_nordic_20211010T13Z.nc\n",
      "- 09:54:04 -\n",
      "Processing  https://thredds.met.no/thredds/dodsC/metpparchive/2021/10/10/met_analysis_1_0km_nordic_20211010T14Z.nc\n",
      "- 09:54:04 -\n",
      "Processing  https://thredds.met.no/thredds/dodsC/metpparchive/2021/10/10/met_analysis_1_0km_nordic_20211010T15Z.nc\n",
      "- 09:54:04 -\n",
      "Processing  https://thredds.met.no/thredds/dodsC/metpparchive/2021/10/10/met_analysis_1_0km_nordic_20211010T16Z.nc\n",
      "- 09:54:04 -\n",
      "Processing  https://thredds.met.no/thredds/dodsC/metpparchive/2021/10/10/met_analysis_1_0km_nordic_20211010T17Z.nc\n",
      "- 09:54:04 -\n",
      "Processing  https://thredds.met.no/thredds/dodsC/metpparchive/2021/10/10/met_analysis_1_0km_nordic_20211010T18Z.nc\n",
      "- 09:54:05 -\n",
      "Processing  https://thredds.met.no/thredds/dodsC/metpparchive/2021/10/10/met_analysis_1_0km_nordic_20211010T19Z.nc\n",
      "- 09:54:05 -\n",
      "Processing  https://thredds.met.no/thredds/dodsC/metpparchive/2021/10/10/met_analysis_1_0km_nordic_20211010T20Z.nc\n",
      "- 09:54:05 -\n",
      "Processing  https://thredds.met.no/thredds/dodsC/metpparchive/2021/10/10/met_analysis_1_0km_nordic_20211010T21Z.nc\n",
      "- 09:54:05 -\n",
      "Processing  https://thredds.met.no/thredds/dodsC/metpparchive/2021/10/10/met_analysis_1_0km_nordic_20211010T22Z.nc\n",
      "- 09:54:05 -\n",
      "Processing  https://thredds.met.no/thredds/dodsC/metpparchive/2021/10/10/met_analysis_1_0km_nordic_20211010T23Z.nc\n",
      "- 09:54:06 -\n",
      "Processing  https://thredds.met.no/thredds/dodsC/metpparchive/2021/10/11/met_analysis_1_0km_nordic_20211011T00Z.nc\n",
      "- 09:54:06 -\n",
      "Processing  https://thredds.met.no/thredds/dodsC/metpparchive/2021/10/11/met_analysis_1_0km_nordic_20211011T01Z.nc\n",
      "- 09:54:06 -\n",
      "Processing  https://thredds.met.no/thredds/dodsC/metpparchive/2021/10/11/met_analysis_1_0km_nordic_20211011T02Z.nc\n",
      "- 09:54:06 -\n",
      "Processing  https://thredds.met.no/thredds/dodsC/metpparchive/2021/10/11/met_analysis_1_0km_nordic_20211011T03Z.nc\n",
      "- 09:54:06 -\n",
      "Processing  https://thredds.met.no/thredds/dodsC/metpparchive/2021/10/11/met_analysis_1_0km_nordic_20211011T04Z.nc\n",
      "- 09:54:06 -\n",
      "Processing  https://thredds.met.no/thredds/dodsC/metpparchive/2021/10/11/met_analysis_1_0km_nordic_20211011T05Z.nc\n",
      "- 09:54:07 -\n",
      "Processing  https://thredds.met.no/thredds/dodsC/metpparchive/2021/10/11/met_analysis_1_0km_nordic_20211011T06Z.nc\n",
      "- 09:54:07 -\n",
      "Processing  https://thredds.met.no/thredds/dodsC/metpparchive/2021/10/11/met_analysis_1_0km_nordic_20211011T07Z.nc\n",
      "- 09:54:07 -\n",
      "Processing  https://thredds.met.no/thredds/dodsC/metpparchive/2021/10/11/met_analysis_1_0km_nordic_20211011T08Z.nc\n",
      "- 09:54:07 -\n",
      "Processing  https://thredds.met.no/thredds/dodsC/metpparchive/2021/10/11/met_analysis_1_0km_nordic_20211011T09Z.nc\n",
      "- 09:54:07 -\n",
      "Processing  https://thredds.met.no/thredds/dodsC/metpparchive/2021/10/11/met_analysis_1_0km_nordic_20211011T10Z.nc\n",
      "- 09:54:07 -\n",
      "Processing  https://thredds.met.no/thredds/dodsC/metpparchive/2021/10/11/met_analysis_1_0km_nordic_20211011T11Z.nc\n",
      "- 09:54:08 -\n",
      "Processing  https://thredds.met.no/thredds/dodsC/metpparchive/2021/10/11/met_analysis_1_0km_nordic_20211011T12Z.nc\n",
      "- 09:54:08 -\n",
      "Processing  https://thredds.met.no/thredds/dodsC/metpparchive/2021/10/11/met_analysis_1_0km_nordic_20211011T13Z.nc\n",
      "- 09:54:08 -\n",
      "Processing  https://thredds.met.no/thredds/dodsC/metpparchive/2021/10/11/met_analysis_1_0km_nordic_20211011T14Z.nc\n",
      "- 09:54:08 -\n",
      "Processing  https://thredds.met.no/thredds/dodsC/metpparchive/2021/10/11/met_analysis_1_0km_nordic_20211011T15Z.nc\n",
      "- 09:54:08 -\n",
      "Processing  https://thredds.met.no/thredds/dodsC/metpparchive/2021/10/11/met_analysis_1_0km_nordic_20211011T16Z.nc\n",
      "- 09:54:08 -\n",
      "Processing  https://thredds.met.no/thredds/dodsC/metpparchive/2021/10/11/met_analysis_1_0km_nordic_20211011T17Z.nc\n",
      "- 09:54:08 -\n",
      "Processing  https://thredds.met.no/thredds/dodsC/metpparchive/2021/10/11/met_analysis_1_0km_nordic_20211011T18Z.nc\n",
      "- 09:54:09 -\n",
      "Processing  https://thredds.met.no/thredds/dodsC/metpparchive/2021/10/11/met_analysis_1_0km_nordic_20211011T19Z.nc\n",
      "- 09:54:09 -\n",
      "Processing  https://thredds.met.no/thredds/dodsC/metpparchive/2021/10/11/met_analysis_1_0km_nordic_20211011T20Z.nc\n",
      "- 09:54:09 -\n",
      "Processing  https://thredds.met.no/thredds/dodsC/metpparchive/2021/10/11/met_analysis_1_0km_nordic_20211011T21Z.nc\n",
      "- 09:54:09 -\n",
      "Processing  https://thredds.met.no/thredds/dodsC/metpparchive/2021/10/11/met_analysis_1_0km_nordic_20211011T22Z.nc\n",
      "- 09:54:09 -\n",
      "Processing  https://thredds.met.no/thredds/dodsC/metpparchive/2021/10/11/met_analysis_1_0km_nordic_20211011T23Z.nc\n",
      "- 09:54:09 -\n",
      "Processing  https://thredds.met.no/thredds/dodsC/metpparchive/2021/10/12/met_analysis_1_0km_nordic_20211012T00Z.nc\n",
      "- 09:54:10 -\n",
      "Processing  https://thredds.met.no/thredds/dodsC/metpparchive/2021/10/12/met_analysis_1_0km_nordic_20211012T01Z.nc\n",
      "- 09:54:10 -\n",
      "Processing  https://thredds.met.no/thredds/dodsC/metpparchive/2021/10/12/met_analysis_1_0km_nordic_20211012T02Z.nc\n",
      "- 09:54:10 -\n",
      "Processing  https://thredds.met.no/thredds/dodsC/metpparchive/2021/10/12/met_analysis_1_0km_nordic_20211012T03Z.nc\n",
      "- 09:54:10 -\n",
      "Processing  https://thredds.met.no/thredds/dodsC/metpparchive/2021/10/12/met_analysis_1_0km_nordic_20211012T04Z.nc\n",
      "- 09:54:10 -\n",
      "Processing  https://thredds.met.no/thredds/dodsC/metpparchive/2021/10/12/met_analysis_1_0km_nordic_20211012T05Z.nc\n",
      "- 09:54:10 -\n",
      "Processing  https://thredds.met.no/thredds/dodsC/metpparchive/2021/10/12/met_analysis_1_0km_nordic_20211012T06Z.nc\n",
      "- 09:54:11 -\n",
      "Processing  https://thredds.met.no/thredds/dodsC/metpparchive/2021/10/12/met_analysis_1_0km_nordic_20211012T07Z.nc\n",
      "- 09:54:11 -\n",
      "Processing  https://thredds.met.no/thredds/dodsC/metpparchive/2021/10/12/met_analysis_1_0km_nordic_20211012T08Z.nc\n",
      "- 09:54:11 -\n",
      "Processing  https://thredds.met.no/thredds/dodsC/metpparchive/2021/10/12/met_analysis_1_0km_nordic_20211012T09Z.nc\n",
      "- 09:54:11 -\n",
      "Processing  https://thredds.met.no/thredds/dodsC/metpparchive/2021/10/12/met_analysis_1_0km_nordic_20211012T10Z.nc\n",
      "- 09:54:11 -\n",
      "Processing  https://thredds.met.no/thredds/dodsC/metpparchive/2021/10/12/met_analysis_1_0km_nordic_20211012T11Z.nc\n",
      "- 09:54:11 -\n",
      "Processing  https://thredds.met.no/thredds/dodsC/metpparchive/2021/10/12/met_analysis_1_0km_nordic_20211012T12Z.nc\n",
      "- 09:54:11 -\n",
      "Processing  https://thredds.met.no/thredds/dodsC/metpparchive/2021/10/12/met_analysis_1_0km_nordic_20211012T13Z.nc\n",
      "- 09:54:12 -\n",
      "Processing  https://thredds.met.no/thredds/dodsC/metpparchive/2021/10/12/met_analysis_1_0km_nordic_20211012T14Z.nc\n",
      "- 09:54:12 -\n",
      "Processing  https://thredds.met.no/thredds/dodsC/metpparchive/2021/10/12/met_analysis_1_0km_nordic_20211012T15Z.nc\n",
      "- 09:54:12 -\n",
      "Processing  https://thredds.met.no/thredds/dodsC/metpparchive/2021/10/12/met_analysis_1_0km_nordic_20211012T16Z.nc\n",
      "- 09:54:12 -\n",
      "Processing  https://thredds.met.no/thredds/dodsC/metpparchive/2021/10/12/met_analysis_1_0km_nordic_20211012T17Z.nc\n",
      "- 09:54:12 -\n",
      "Processing  https://thredds.met.no/thredds/dodsC/metpparchive/2021/10/12/met_analysis_1_0km_nordic_20211012T18Z.nc\n",
      "- 09:54:12 -\n",
      "Processing  https://thredds.met.no/thredds/dodsC/metpparchive/2021/10/12/met_analysis_1_0km_nordic_20211012T19Z.nc\n",
      "- 09:54:13 -\n",
      "Processing  https://thredds.met.no/thredds/dodsC/metpparchive/2021/10/12/met_analysis_1_0km_nordic_20211012T20Z.nc\n",
      "- 09:54:13 -\n",
      "Processing  https://thredds.met.no/thredds/dodsC/metpparchive/2021/10/12/met_analysis_1_0km_nordic_20211012T21Z.nc\n",
      "- 09:54:13 -\n",
      "Processing  https://thredds.met.no/thredds/dodsC/metpparchive/2021/10/12/met_analysis_1_0km_nordic_20211012T22Z.nc\n",
      "- 09:54:13 -\n",
      "Processing  https://thredds.met.no/thredds/dodsC/metpparchive/2021/10/12/met_analysis_1_0km_nordic_20211012T23Z.nc\n"
     ]
    }
   ],
   "source": [
    "pp_df = pp.pp_data([\"air_temperature_2m\", \"wind_direction_10m\"],lon,lat)"
   ]
  },
  {
   "cell_type": "code",
   "execution_count": null,
   "metadata": {},
   "outputs": [],
   "source": []
  }
 ],
 "metadata": {
  "interpreter": {
   "hash": "9eb29a7076c7276605e5eb8d51f245f43dbf04c428619f9ae82a0981fd35b6e6"
  },
  "kernelspec": {
   "display_name": "Python 3.7.10 64-bit ('datadriven': conda)",
   "name": "python3"
  },
  "language_info": {
   "codemirror_mode": {
    "name": "ipython",
    "version": 3
   },
   "file_extension": ".py",
   "mimetype": "text/x-python",
   "name": "python",
   "nbconvert_exporter": "python",
   "pygments_lexer": "ipython3",
   "version": "3.7.10"
  },
  "metadata": {
   "interpreter": {
    "hash": "9eb29a7076c7276605e5eb8d51f245f43dbf04c428619f9ae82a0981fd35b6e6"
   }
  },
  "orig_nbformat": 2
 },
 "nbformat": 4,
 "nbformat_minor": 2
}
