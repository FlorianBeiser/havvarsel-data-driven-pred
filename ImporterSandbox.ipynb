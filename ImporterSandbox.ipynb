{
 "metadata": {
  "language_info": {
   "codemirror_mode": {
    "name": "ipython",
    "version": 3
   },
   "file_extension": ".py",
   "mimetype": "text/x-python",
   "name": "python",
   "nbconvert_exporter": "python",
   "pygments_lexer": "ipython3",
   "version": "3.7.10"
  },
  "orig_nbformat": 2,
  "kernelspec": {
   "name": "python3",
   "display_name": "Python 3.7.10 64-bit ('datadriven': conda)"
  },
  "metadata": {
   "interpreter": {
    "hash": "9eb29a7076c7276605e5eb8d51f245f43dbf04c428619f9ae82a0981fd35b6e6"
   }
  },
  "interpreter": {
   "hash": "9eb29a7076c7276605e5eb8d51f245f43dbf04c428619f9ae82a0981fd35b6e6"
  }
 },
 "nbformat": 4,
 "nbformat_minor": 2,
 "cells": [
  {
   "cell_type": "markdown",
   "source": [
    "# Fetching observations from MET data base services\n",
    "\n",
    "This notebook serves as sandbox for fetching data from frost.met, havvarsel-frost.met and thredds.met\n",
    "\n",
    "See https://api.met.no/ for all interfaces and possible sources!!\n",
    "\n",
    "\n",
    "## Havvarsel frost\n",
    "Havvarsel frost delivers so far `temperature` measurements originated from badevann.no at seven beaches in the south of Norway (glider data integrated in the meantime, but not yet used here!). \n",
    "> Documentation:\n",
    "> API documentation for obs/badevann https://havvarsel-frost.met.no/docs/apiref#/obs%2Fbadevann/obsBadevannGet \n",
    "> Datastructure described on https://havvarsel-frost.met.no/docs/dataset_badevann\n",
    "\n",
    "\n",
    "## Frost\n",
    "From the frost server we retrieve observations from the `n` closest weather observation stations and include the values \n",
    "- `air_temperature`\n",
    "- `mean(surface_downwelling_shortwave_flux_in_air PT1H)`\n",
    "- `wind_speed`\n",
    "- `relative_humidity`\n",
    "- `sum(duration_of_sunshinePT1H)`\n",
    "- `cloud_area_fraction` (which takes values from 0 = no clouds to 8 = fully clouded) \n",
    "- ...\n",
    "\n",
    "> Documentation:\n",
    "> API documentation for observations on https://frost.met.no/api.html#!/observations/observations \n",
    "> Available elements (params) are listed on https://frost.met.no/elementtable \n",
    "> Examples on Frost data manipulation with Python on https://frost.met.no/python_example.html\n",
    ">\n",
    "> See also:\n",
    "> Complete documentation at https://frost.met.no/howto.html \n",
    "> Complete frost API reference at https://frost.met.no/api.html \n",
    "\n",
    "## Thredds\n",
    "Holds netcdf files with the a bunch of different data\n",
    "\n",
    "> See the catalog: https://thredds.met.no/thredds/catalog.html\n",
    "\n",
    "We primarily use the `Ocean and Ice/met.no (OLD) ROMS NorKyst800m coastal forecasting system` to get the forecasted water temperatures\n",
    "\n",
    "\n",
    "TODO processing:\n",
    " - Tune processing and storing of observational data sets (to suite whatever code that will use the data sets)"
   ],
   "metadata": {}
  },
  {
   "cell_type": "code",
   "execution_count": 104,
   "source": [
    "# Importing general libraries\n",
    "import sys\n",
    "import json\n",
    "import datetime\n",
    "import requests\n",
    "from traceback import format_exc\n",
    "\n",
    "import numpy as np\n",
    "import pandas as pd\n",
    "import matplotlib.pyplot as plt\n",
    "\n",
    "\n",
    "import netCDF4\n",
    "import pyproj as proj\n"
   ],
   "outputs": [],
   "metadata": {}
  },
  {
   "cell_type": "code",
   "execution_count": 5,
   "source": [
    "filename = \"https://thredds.met.no/\" + \"/thredds/dodsC/metpparchive/2021/09/20/met_forecast_1_0km_nordic_20210920T06Z.nc\"\n",
    "filename"
   ],
   "outputs": [
    {
     "output_type": "execute_result",
     "data": {
      "text/plain": [
       "'https://thredds.met.no//thredds/dodsC/metpparchive/2021/09/20/met_forecast_1_0km_nordic_20210920T06Z.nc'"
      ]
     },
     "metadata": {},
     "execution_count": 5
    }
   ],
   "metadata": {}
  },
  {
   "cell_type": "code",
   "execution_count": 6,
   "source": [
    "nc = netCDF4.Dataset(filename)"
   ],
   "outputs": [],
   "metadata": {}
  },
  {
   "cell_type": "code",
   "execution_count": 14,
   "source": [
    "times = netCDF4.num2date(nc.variables[\"time\"][:], nc.variables[\"time\"].units)"
   ],
   "outputs": [],
   "metadata": {}
  },
  {
   "cell_type": "code",
   "execution_count": 17,
   "source": [
    "nc.variables"
   ],
   "outputs": [
    {
     "output_type": "execute_result",
     "data": {
      "text/plain": [
       "{'forecast_reference_time': <class 'netCDF4._netCDF4.Variable'>\n",
       " float64 forecast_reference_time()\n",
       "     units: seconds since 1970-01-01 00:00:00 +00:00\n",
       "     standard_name: forecast_reference_time\n",
       " unlimited dimensions: \n",
       " current shape = ()\n",
       " filling off,\n",
       " 'projection_lcc': <class 'netCDF4._netCDF4.Variable'>\n",
       " int32 projection_lcc()\n",
       "     grid_mapping_name: lambert_conformal_conic\n",
       "     standard_parallel: [63. 63.]\n",
       "     longitude_of_central_meridian: 15.0\n",
       "     latitude_of_projection_origin: 63.0\n",
       "     earth_radius: 6371000.0\n",
       "     proj4: +proj=lcc +lat_0=63 +lon_0=15 +lat_1=63 +lat_2=63 +no_defs +R=6.371e+06\n",
       " unlimited dimensions: \n",
       " current shape = ()\n",
       " filling off,\n",
       " 'time': <class 'netCDF4._netCDF4.Variable'>\n",
       " float64 time(time)\n",
       "     long_name: time\n",
       "     standard_name: time\n",
       "     units: seconds since 1970-01-01 00:00:00 +00:00\n",
       "     _ChunkSizes: 1\n",
       " unlimited dimensions: time\n",
       " current shape = (59,)\n",
       " filling off,\n",
       " 'x': <class 'netCDF4._netCDF4.Variable'>\n",
       " float64 x(x)\n",
       "     standard_name: projection_x_coordinate\n",
       "     units: m\n",
       "     _ChunkSizes: 1796\n",
       " unlimited dimensions: \n",
       " current shape = (1796,)\n",
       " filling off,\n",
       " 'y': <class 'netCDF4._netCDF4.Variable'>\n",
       " float64 y(y)\n",
       "     standard_name: projection_y_coordinate\n",
       "     units: m\n",
       "     _ChunkSizes: 2321\n",
       " unlimited dimensions: \n",
       " current shape = (2321,)\n",
       " filling off,\n",
       " 'altitude': <class 'netCDF4._netCDF4.Variable'>\n",
       " float32 altitude(y, x)\n",
       "     units: m\n",
       "     standard_name: surface_altitude\n",
       "     grid_mapping: projection_lcc\n",
       "     coordinates: longitude latitude\n",
       "     _ChunkSizes: [  31 1796]\n",
       " unlimited dimensions: \n",
       " current shape = (2321, 1796)\n",
       " filling off,\n",
       " 'land_area_fraction': <class 'netCDF4._netCDF4.Variable'>\n",
       " float32 land_area_fraction(y, x)\n",
       "     standard_name: land_area_fraction\n",
       "     grid_mapping: projection_lcc\n",
       "     coordinates: longitude latitude\n",
       "     units: 1\n",
       "     _ChunkSizes: [  31 1796]\n",
       " unlimited dimensions: \n",
       " current shape = (2321, 1796)\n",
       " filling off,\n",
       " 'latitude': <class 'netCDF4._netCDF4.Variable'>\n",
       " float64 latitude(y, x)\n",
       "     units: degree_north\n",
       "     long_name: latitude\n",
       "     standard_name: latitude\n",
       "     grid_mapping: projection_lcc\n",
       "     _ChunkSizes: [  31 1796]\n",
       " unlimited dimensions: \n",
       " current shape = (2321, 1796)\n",
       " filling off,\n",
       " 'longitude': <class 'netCDF4._netCDF4.Variable'>\n",
       " float64 longitude(y, x)\n",
       "     units: degree_east\n",
       "     long_name: longitude\n",
       "     standard_name: longitude\n",
       "     grid_mapping: projection_lcc\n",
       "     _ChunkSizes: [  31 1796]\n",
       " unlimited dimensions: \n",
       " current shape = (2321, 1796)\n",
       " filling off,\n",
       " 'air_temperature_2m': <class 'netCDF4._netCDF4.Variable'>\n",
       " float32 air_temperature_2m(time, y, x)\n",
       "     coordinates: longitude latitude\n",
       "     units: K\n",
       "     standard_name: air_temperature\n",
       "     grid_mapping: projection_lcc\n",
       "     _ChunkSizes: [   1   31 1796]\n",
       " unlimited dimensions: time\n",
       " current shape = (59, 2321, 1796)\n",
       " filling off,\n",
       " 'precipitation_amount': <class 'netCDF4._netCDF4.Variable'>\n",
       " float32 precipitation_amount(time, y, x)\n",
       "     coordinates: longitude latitude\n",
       "     units: kg/m^2\n",
       "     standard_name: precipitation_amount\n",
       "     grid_mapping: projection_lcc\n",
       "     _ChunkSizes: [   1   31 1796]\n",
       " unlimited dimensions: time\n",
       " current shape = (59, 2321, 1796)\n",
       " filling off,\n",
       " 'wind_direction_10m': <class 'netCDF4._netCDF4.Variable'>\n",
       " float32 wind_direction_10m(time, y, x)\n",
       "     coordinates: longitude latitude\n",
       "     units: degrees\n",
       "     standard_name: wind_from_direction\n",
       "     grid_mapping: projection_lcc\n",
       "     _ChunkSizes: [   1   31 1796]\n",
       " unlimited dimensions: time\n",
       " current shape = (59, 2321, 1796)\n",
       " filling off,\n",
       " 'wind_speed_10m': <class 'netCDF4._netCDF4.Variable'>\n",
       " float32 wind_speed_10m(time, y, x)\n",
       "     coordinates: longitude latitude\n",
       "     units: m/s\n",
       "     standard_name: wind_speed\n",
       "     grid_mapping: projection_lcc\n",
       "     _ChunkSizes: [   1   31 1796]\n",
       " unlimited dimensions: time\n",
       " current shape = (59, 2321, 1796)\n",
       " filling off,\n",
       " 'wind_speed_of_gust': <class 'netCDF4._netCDF4.Variable'>\n",
       " float32 wind_speed_of_gust(time, y, x)\n",
       "     coordinates: longitude latitude\n",
       "     units: m/s\n",
       "     standard_name: wind_speed_of_gust\n",
       "     grid_mapping: projection_lcc\n",
       "     _ChunkSizes: [   1   31 1796]\n",
       " unlimited dimensions: time\n",
       " current shape = (59, 2321, 1796)\n",
       " filling off,\n",
       " 'cloud_area_fraction': <class 'netCDF4._netCDF4.Variable'>\n",
       " float32 cloud_area_fraction(time, y, x)\n",
       "     coordinates: longitude latitude\n",
       "     units: 1\n",
       "     standard_name: cloud_area_fraction\n",
       "     grid_mapping: projection_lcc\n",
       "     _ChunkSizes: [   1   31 1796]\n",
       " unlimited dimensions: time\n",
       " current shape = (59, 2321, 1796)\n",
       " filling off,\n",
       " 'air_pressure_at_sea_level': <class 'netCDF4._netCDF4.Variable'>\n",
       " float32 air_pressure_at_sea_level(time, y, x)\n",
       "     coordinates: longitude latitude\n",
       "     units: Pa\n",
       "     standard_name: air_pressure_at_sea_level\n",
       "     grid_mapping: projection_lcc\n",
       "     _ChunkSizes: [   1   31 1796]\n",
       " unlimited dimensions: time\n",
       " current shape = (59, 2321, 1796)\n",
       " filling off,\n",
       " 'integral_of_surface_downwelling_shortwave_flux_in_air_wrt_time': <class 'netCDF4._netCDF4.Variable'>\n",
       " float32 integral_of_surface_downwelling_shortwave_flux_in_air_wrt_time(time, y, x)\n",
       "     coordinates: longitude latitude\n",
       "     units: W s/m^2\n",
       "     standard_name: integral_of_surface_downwelling_shortwave_flux_in_air_wrt_time\n",
       "     grid_mapping: projection_lcc\n",
       "     _ChunkSizes: [   1   31 1796]\n",
       " unlimited dimensions: time\n",
       " current shape = (59, 2321, 1796)\n",
       " filling off,\n",
       " 'relative_humidity_2m': <class 'netCDF4._netCDF4.Variable'>\n",
       " float32 relative_humidity_2m(time, y, x)\n",
       "     coordinates: longitude latitude\n",
       "     units: 1\n",
       "     standard_name: relative_humidity\n",
       "     grid_mapping: projection_lcc\n",
       "     _ChunkSizes: [   1   31 1796]\n",
       " unlimited dimensions: time\n",
       " current shape = (59, 2321, 1796)\n",
       " filling off}"
      ]
     },
     "metadata": {},
     "execution_count": 17
    }
   ],
   "metadata": {}
  },
  {
   "cell_type": "code",
   "execution_count": 32,
   "source": [
    "temps = nc[\"air_temperature_2m\"][:,0,0][0:6]"
   ],
   "outputs": [],
   "metadata": {}
  },
  {
   "cell_type": "code",
   "execution_count": 33,
   "source": [
    "len(temps)"
   ],
   "outputs": [
    {
     "output_type": "execute_result",
     "data": {
      "text/plain": [
       "6"
      ]
     },
     "metadata": {},
     "execution_count": 33
    }
   ],
   "metadata": {}
  },
  {
   "cell_type": "code",
   "execution_count": 38,
   "source": [
    "filenames = [\"https://thredds.met.no/thredds/dodsC/metpparchive/2021/09/20/met_forecast_1_0km_nordic_20210920T00Z.nc\",\"https://thredds.met.no/thredds/dodsC/metpparchive/2021/09/20/met_forecast_1_0km_nordic_20210920T06Z.nc\"]\n"
   ],
   "outputs": [],
   "metadata": {}
  },
  {
   "cell_type": "code",
   "execution_count": 39,
   "source": [
    "ncs = netCDF4.MFDataset(filenames)"
   ],
   "outputs": [],
   "metadata": {}
  },
  {
   "cell_type": "code",
   "execution_count": 51,
   "source": [
    "all_times = ncs.variables[\"time\"]\n",
    "all_times"
   ],
   "outputs": [
    {
     "output_type": "execute_result",
     "data": {
      "text/plain": [
       "<class 'netCDF4._netCDF4._Variable'>\n",
       "float64 time('time',)\n",
       "    long_name: time\n",
       "    standard_name: time\n",
       "    units: seconds since 1970-01-01 00:00:00 +00:00\n",
       "    _ChunkSizes: 1\n",
       "unlimited dimensions = ('time',)\n",
       "current size = (118,)"
      ]
     },
     "metadata": {},
     "execution_count": 51
    }
   ],
   "metadata": {}
  },
  {
   "cell_type": "code",
   "execution_count": 43,
   "source": [
    "temps = ncs[\"air_temperature_2m\"][:,0,0]"
   ],
   "outputs": [],
   "metadata": {}
  },
  {
   "cell_type": "code",
   "execution_count": 44,
   "source": [
    "len(temps)"
   ],
   "outputs": [
    {
     "output_type": "execute_result",
     "data": {
      "text/plain": [
       "118"
      ]
     },
     "metadata": {},
     "execution_count": 44
    }
   ],
   "metadata": {}
  },
  {
   "cell_type": "code",
   "execution_count": 45,
   "source": [
    "first = netCDF4.num2date(all_times[0],all_times.units)\n",
    "print(\"First available time: \" + first.strftime(\"%Y-%m-%dT%H:%M\"))"
   ],
   "outputs": [
    {
     "output_type": "stream",
     "name": "stdout",
     "text": [
      "First available time: 2021-09-20T00:00\n"
     ]
    }
   ],
   "metadata": {}
  },
  {
   "cell_type": "code",
   "execution_count": 46,
   "source": [
    "last = netCDF4.num2date(all_times[-1],all_times.units)\n",
    "print(\"Last available time: \" + last.strftime(\"%Y-%m-%dT%H:%M\"))"
   ],
   "outputs": [
    {
     "output_type": "stream",
     "name": "stdout",
     "text": [
      "Last available time: 2021-09-22T16:00\n"
     ]
    }
   ],
   "metadata": {}
  },
  {
   "cell_type": "code",
   "execution_count": 53,
   "source": [
    "start_time = datetime.datetime.strptime(\"2021-09-20T00:00\", \"%Y-%m-%dT%H:%M\")\n",
    "end_time = datetime.datetime.strptime(\"2021-09-20T23:59\", \"%Y-%m-%dT%H:%M\")"
   ],
   "outputs": [],
   "metadata": {}
  },
  {
   "cell_type": "code",
   "execution_count": 54,
   "source": [
    "t1 = netCDF4.date2index(start_time, all_times, select=\"before\")"
   ],
   "outputs": [],
   "metadata": {}
  },
  {
   "cell_type": "code",
   "execution_count": 56,
   "source": [
    "t2 = netCDF4.date2index(end_time, all_times, select=\"after\")"
   ],
   "outputs": [],
   "metadata": {}
  },
  {
   "cell_type": "code",
   "execution_count": 61,
   "source": [
    "lat = 59.933329\n",
    "lon = 10.7166638"
   ],
   "outputs": [],
   "metadata": {}
  },
  {
   "cell_type": "code",
   "execution_count": 102,
   "source": [
    "proj_args = ncs.variables[\"projection_lcc\"].proj4\n"
   ],
   "outputs": [],
   "metadata": {}
  },
  {
   "cell_type": "code",
   "execution_count": 103,
   "source": [
    "proj_args = str(proj_args.replace(\"+no_defs\",\"\"))"
   ],
   "outputs": [],
   "metadata": {}
  },
  {
   "cell_type": "code",
   "execution_count": 105,
   "source": [
    "p = proj.Proj(proj_args)"
   ],
   "outputs": [],
   "metadata": {}
  },
  {
   "cell_type": "code",
   "execution_count": 107,
   "source": [
    "xp, yp = p(lon, lat)"
   ],
   "outputs": [],
   "metadata": {}
  },
  {
   "cell_type": "code",
   "execution_count": 110,
   "source": [
    "lats = ncs.variables[\"latitude\"][:]\n",
    "lons = ncs.variables[\"longitude\"][:]\n",
    "\n",
    "xps, yps = p(lons, lats)"
   ],
   "outputs": [],
   "metadata": {}
  },
  {
   "cell_type": "code",
   "execution_count": 116,
   "source": [
    "x = (np.abs(xps[0,:] - xp)).argmin()\n",
    "y = (np.abs(yps[:,0] - yp)).argmin()"
   ],
   "outputs": [],
   "metadata": {}
  },
  {
   "cell_type": "code",
   "execution_count": 117,
   "source": [
    "data = ncs.variables[\"air_temperature_2m\"][t1:t2,y,x]\n"
   ],
   "outputs": [],
   "metadata": {}
  },
  {
   "cell_type": "code",
   "execution_count": 118,
   "source": [
    "data"
   ],
   "outputs": [
    {
     "output_type": "execute_result",
     "data": {
      "text/plain": [
       "array([282.6989 , 282.63757, 282.5628 , 282.60977, 282.5229 , 282.22266,\n",
       "       282.38187, 282.99582, 283.70224, 284.47678, 284.6016 , 284.67767,\n",
       "       284.6973 , 284.8469 , 285.08008, 284.86697, 284.77582, 284.65115,\n",
       "       284.19028, 284.2589 , 284.17197, 284.01154, 283.73694, 283.5991 ],\n",
       "      dtype=float32)"
      ]
     },
     "metadata": {},
     "execution_count": 118
    }
   ],
   "metadata": {}
  },
  {
   "cell_type": "code",
   "execution_count": null,
   "source": [],
   "outputs": [],
   "metadata": {}
  }
 ]
}