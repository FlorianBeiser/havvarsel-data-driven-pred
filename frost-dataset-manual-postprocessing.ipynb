{
 "metadata": {
  "language_info": {
   "codemirror_mode": {
    "name": "ipython",
    "version": 3
   },
   "file_extension": ".py",
   "mimetype": "text/x-python",
   "name": "python",
   "nbconvert_exporter": "python",
   "pygments_lexer": "ipython3",
   "version": "3.7.10-final"
  },
  "orig_nbformat": 2,
  "kernelspec": {
   "name": "python3710jvsc74a57bd09eb29a7076c7276605e5eb8d51f245f43dbf04c428619f9ae82a0981fd35b6e6",
   "display_name": "Python 3.7.10 64-bit ('datadriven': conda)"
  },
  "metadata": {
   "interpreter": {
    "hash": "9eb29a7076c7276605e5eb8d51f245f43dbf04c428619f9ae82a0981fd35b6e6"
   }
  }
 },
 "nbformat": 4,
 "nbformat_minor": 2,
 "cells": [
  {
   "cell_type": "code",
   "execution_count": 1,
   "metadata": {},
   "outputs": [],
   "source": [
    "import pandas as pd \n"
   ]
  },
  {
   "cell_type": "code",
   "execution_count": 2,
   "metadata": {},
   "outputs": [
    {
     "output_type": "execute_result",
     "data": {
      "text/plain": [
       "2327"
      ]
     },
     "metadata": {},
     "execution_count": 2
    }
   ],
   "source": [
    "# Load data set\n",
    "data = pd.read_csv(\"dataset.csv\")\n",
    "\n",
    "len(data)"
   ]
  },
  {
   "cell_type": "code",
   "execution_count": 3,
   "metadata": {},
   "outputs": [],
   "source": [
    "# Load time series \n",
    "filename = \"data_SN18690air_temperature.csv\"\n",
    "param = \"air_temperature(degC)\"\n",
    "\n",
    "timeseries_orig = pd.read_csv(filename, low_memory=False)\n",
    "\n"
   ]
  },
  {
   "cell_type": "code",
   "execution_count": 4,
   "metadata": {},
   "outputs": [
    {
     "output_type": "execute_result",
     "data": {
      "text/plain": [
       "2281"
      ]
     },
     "metadata": {},
     "execution_count": 4
    }
   ],
   "source": [
    "# Extract existing observations which match havvarsel observations\n",
    "timeseries = timeseries_orig.loc[timeseries_orig['referenceTime'].isin(data[\"time\"])]\n",
    "\n",
    "len(timeseries)"
   ]
  },
  {
   "cell_type": "code",
   "execution_count": 5,
   "metadata": {},
   "outputs": [
    {
     "output_type": "execute_result",
     "data": {
      "text/plain": [
       "46"
      ]
     },
     "metadata": {},
     "execution_count": 5
    }
   ],
   "source": [
    "# Identify times with missing observations\n",
    "missing = data[~data[\"time\"].isin(timeseries_orig[\"referenceTime\"])][\"time\"]\n",
    "\n",
    "len(missing)"
   ]
  },
  {
   "cell_type": "code",
   "execution_count": 6,
   "metadata": {},
   "outputs": [
    {
     "output_type": "execute_result",
     "data": {
      "text/plain": [
       "0       2016-05-24 07:00:00+00:00\n",
       "1       2016-05-24 10:00:00+00:00\n",
       "2       2016-05-24 14:00:00+00:00\n",
       "3       2016-05-24 16:00:00+00:00\n",
       "4       2016-05-25 07:00:00+00:00\n",
       "5       2016-05-25 11:00:00+00:00\n",
       "6       2016-05-25 13:00:00+00:00\n",
       "7       2016-05-25 16:00:00+00:00\n",
       "8       2016-05-26 07:00:00+00:00\n",
       "9       2016-05-26 10:00:00+00:00\n",
       "10      2016-05-26 13:00:00+00:00\n",
       "11      2016-05-26 16:00:00+00:00\n",
       "12      2016-05-27 07:00:00+00:00\n",
       "13      2016-05-27 10:00:00+00:00\n",
       "14      2016-05-27 14:00:00+00:00\n",
       "15      2016-05-27 16:00:00+00:00\n",
       "16      2016-05-28 07:00:00+00:00\n",
       "17      2016-05-28 10:00:00+00:00\n",
       "18      2016-05-28 13:00:00+00:00\n",
       "19      2016-05-28 16:00:00+00:00\n",
       "20      2016-05-29 07:00:00+00:00\n",
       "21      2016-05-29 10:00:00+00:00\n",
       "22      2016-05-29 13:00:00+00:00\n",
       "23      2016-05-29 16:00:00+00:00\n",
       "24      2016-05-30 07:00:00+00:00\n",
       "25      2016-05-30 10:00:00+00:00\n",
       "26      2016-05-30 14:00:00+00:00\n",
       "27      2016-05-30 16:00:00+00:00\n",
       "28      2016-05-31 07:00:00+00:00\n",
       "43      2016-06-04 19:00:00+00:00\n",
       "258     2016-08-15 13:00:00+00:00\n",
       "259     2016-08-15 16:00:00+00:00\n",
       "879     2017-09-19 16:00:00+00:00\n",
       "880     2017-09-20 07:00:00+00:00\n",
       "881     2017-09-20 10:00:00+00:00\n",
       "1357    2019-05-29 07:00:00+00:00\n",
       "1358    2019-05-29 10:00:00+00:00\n",
       "1359    2019-05-29 13:00:00+00:00\n",
       "1360    2019-05-29 16:00:00+00:00\n",
       "1361    2019-05-30 07:00:00+00:00\n",
       "1362    2019-05-30 10:00:00+00:00\n",
       "1363    2019-05-30 13:00:00+00:00\n",
       "1364    2019-05-30 16:00:00+00:00\n",
       "1365    2019-05-31 07:00:00+00:00\n",
       "1715    2019-08-27 10:00:00+00:00\n",
       "1722    2019-08-29 07:00:00+00:00\n",
       "Name: time, dtype: object"
      ]
     },
     "metadata": {},
     "execution_count": 6
    }
   ],
   "source": [
    "missing"
   ]
  },
  {
   "cell_type": "code",
   "execution_count": 7,
   "metadata": {},
   "outputs": [
    {
     "output_type": "execute_result",
     "data": {
      "text/plain": [
       "46"
      ]
     },
     "metadata": {},
     "execution_count": 7
    }
   ],
   "source": [
    "# Find closest observation for times in missing\n",
    "fill = pd.DataFrame()\n",
    "\n",
    "for t in missing:\n",
    "    if \"referenceTime\" in timeseries_orig.columns:\n",
    "        timeseries_orig[\"referenceTime\"] = pd.to_datetime(timeseries_orig[\"referenceTime\"])\n",
    "        timeseries_orig = timeseries_orig.set_index(\"referenceTime\")\n",
    "\n",
    "    row = timeseries_orig.iloc[[timeseries_orig.index.get_loc(t, method=\"nearest\")]]\n",
    "    row = row.reset_index()\n",
    "    row[\"referenceTime\"] = t\n",
    "\n",
    "    fill = fill.append(row)\n",
    "\n",
    "fill = fill.set_index(\"referenceTime\")\n",
    "fill = fill.reset_index()\n",
    "\n",
    "len(fill)"
   ]
  },
  {
   "cell_type": "code",
   "execution_count": 8,
   "metadata": {},
   "outputs": [
    {
     "output_type": "execute_result",
     "data": {
      "text/plain": [
       "                referenceTime  Unnamed: 0  index   sourceId  \\\n",
       "0   2016-05-24 07:00:00+00:00       18251  18251  sn18690:0   \n",
       "1   2016-05-24 10:00:00+00:00       18251  18251  sn18690:0   \n",
       "2   2016-05-24 14:00:00+00:00       18252  18252  sn18690:0   \n",
       "3   2016-05-24 16:00:00+00:00       18252  18252  sn18690:0   \n",
       "4   2016-05-25 07:00:00+00:00       18252  18252  sn18690:0   \n",
       "5   2016-05-25 11:00:00+00:00       18252  18252  sn18690:0   \n",
       "6   2016-05-25 13:00:00+00:00       18252  18252  sn18690:0   \n",
       "7   2016-05-25 16:00:00+00:00       18252  18252  sn18690:0   \n",
       "8   2016-05-26 07:00:00+00:00       18252  18252  sn18690:0   \n",
       "9   2016-05-26 10:00:00+00:00       18252  18252  sn18690:0   \n",
       "10  2016-05-26 13:00:00+00:00       18252  18252  sn18690:0   \n",
       "11  2016-05-26 16:00:00+00:00       18252  18252  sn18690:0   \n",
       "12  2016-05-27 07:00:00+00:00       18252  18252  sn18690:0   \n",
       "13  2016-05-27 10:00:00+00:00       18252  18252  sn18690:0   \n",
       "14  2016-05-27 14:00:00+00:00       18252  18252  sn18690:0   \n",
       "15  2016-05-27 16:00:00+00:00       18252  18252  sn18690:0   \n",
       "16  2016-05-28 07:00:00+00:00       18256  18256  sn18690:0   \n",
       "17  2016-05-28 10:00:00+00:00       18256  18256  sn18690:0   \n",
       "18  2016-05-28 13:00:00+00:00       18256  18256  sn18690:0   \n",
       "19  2016-05-28 16:00:00+00:00       18256  18256  sn18690:0   \n",
       "20  2016-05-29 07:00:00+00:00       18256  18256  sn18690:0   \n",
       "21  2016-05-29 10:00:00+00:00       18256  18256  sn18690:0   \n",
       "22  2016-05-29 13:00:00+00:00       18256  18256  sn18690:0   \n",
       "23  2016-05-29 16:00:00+00:00       18256  18256  sn18690:0   \n",
       "24  2016-05-30 07:00:00+00:00       18257  18257  sn18690:0   \n",
       "25  2016-05-30 10:00:00+00:00       18257  18257  sn18690:0   \n",
       "26  2016-05-30 14:00:00+00:00       18257  18257  sn18690:0   \n",
       "27  2016-05-30 16:00:00+00:00       18257  18257  sn18690:0   \n",
       "28  2016-05-31 07:00:00+00:00       18257  18257  sn18690:0   \n",
       "29  2016-06-04 19:00:00+00:00       18875  18875  sn18690:0   \n",
       "30  2016-08-15 13:00:00+00:00       28650  28650  sn18690:0   \n",
       "31  2016-08-15 16:00:00+00:00       28650  28650  sn18690:0   \n",
       "32  2017-09-19 16:00:00+00:00       83493  36577  sn18690:0   \n",
       "33  2017-09-20 07:00:00+00:00       83494  36578  sn18690:0   \n",
       "34  2017-09-20 10:00:00+00:00       83494  36578  sn18690:0   \n",
       "35  2019-05-29 07:00:00+00:00      167458  20157  sn18690:0   \n",
       "36  2019-05-29 10:00:00+00:00      167458  20157  sn18690:0   \n",
       "37  2019-05-29 13:00:00+00:00      167458  20157  sn18690:0   \n",
       "38  2019-05-29 16:00:00+00:00      167458  20157  sn18690:0   \n",
       "39  2019-05-30 07:00:00+00:00      167459  20158  sn18690:0   \n",
       "40  2019-05-30 10:00:00+00:00      167459  20158  sn18690:0   \n",
       "41  2019-05-30 13:00:00+00:00      167459  20158  sn18690:0   \n",
       "42  2019-05-30 16:00:00+00:00      167459  20158  sn18690:0   \n",
       "43  2019-05-31 07:00:00+00:00      167459  20158  sn18690:0   \n",
       "44  2019-08-27 10:00:00+00:00      179739  32438  sn18690:0   \n",
       "45  2019-08-29 07:00:00+00:00      179981  32680  sn18690:0   \n",
       "\n",
       "    air_temperature(degC)  height_above_ground(m) timeOffset timeResolution  \\\n",
       "0                     0.0                     2.0       PT0H          PT10M   \n",
       "1                     0.0                     2.0       PT0H          PT10M   \n",
       "2                     0.0                     2.0       PT0H          PT10M   \n",
       "3                     0.0                     2.0       PT0H          PT10M   \n",
       "4                     0.0                     2.0       PT0H          PT10M   \n",
       "5                     0.0                     2.0       PT0H          PT10M   \n",
       "6                     0.0                     2.0       PT0H          PT10M   \n",
       "7                     0.0                     2.0       PT0H          PT10M   \n",
       "8                     0.0                     2.0       PT0H          PT10M   \n",
       "9                     0.0                     2.0       PT0H          PT10M   \n",
       "10                    0.0                     2.0       PT0H          PT10M   \n",
       "11                    0.0                     2.0       PT0H          PT10M   \n",
       "12                    0.0                     2.0       PT0H          PT10M   \n",
       "13                    0.0                     2.0       PT0H          PT10M   \n",
       "14                    0.0                     2.0       PT0H          PT10M   \n",
       "15                    0.0                     2.0       PT0H          PT10M   \n",
       "16                    0.0                     2.0       PT0H          PT10M   \n",
       "17                    0.0                     2.0       PT0H          PT10M   \n",
       "18                    0.0                     2.0       PT0H          PT10M   \n",
       "19                    0.0                     2.0       PT0H          PT10M   \n",
       "20                    0.0                     2.0       PT0H          PT10M   \n",
       "21                    0.0                     2.0       PT0H          PT10M   \n",
       "22                    0.0                     2.0       PT0H          PT10M   \n",
       "23                    0.0                     2.0       PT0H          PT10M   \n",
       "24                   21.4                     2.0       PT0H          PT10M   \n",
       "25                   21.4                     2.0       PT0H          PT10M   \n",
       "26                   21.4                     2.0       PT0H          PT10M   \n",
       "27                   21.4                     2.0       PT0H          PT10M   \n",
       "28                   21.4                     2.0       PT0H          PT10M   \n",
       "29                   19.8                     2.0       PT0H          PT10M   \n",
       "30                   17.9                     2.0       PT0H          PT10M   \n",
       "31                   17.9                     2.0       PT0H          PT10M   \n",
       "32                   11.5                     2.0       PT0H          PT10M   \n",
       "33                   10.9                     2.0       PT0H          PT10M   \n",
       "34                   10.9                     2.0       PT0H          PT10M   \n",
       "35                    4.6                     2.0       PT0H          PT10M   \n",
       "36                    4.6                     2.0       PT0H          PT10M   \n",
       "37                    4.6                     2.0       PT0H          PT10M   \n",
       "38                    4.6                     2.0       PT0H          PT10M   \n",
       "39                   10.6                     2.0       PT0H          PT10M   \n",
       "40                   10.6                     2.0       PT0H          PT10M   \n",
       "41                   10.6                     2.0       PT0H          PT10M   \n",
       "42                   10.6                     2.0       PT0H          PT10M   \n",
       "43                   10.6                     2.0       PT0H          PT10M   \n",
       "44                   16.4                     2.0       PT0H          PT10M   \n",
       "45                   14.5                     2.0       PT0H          PT10M   \n",
       "\n",
       "    timeSeriesId performanceCategory  exposureCategory qualityCode  \n",
       "0              0                   C                 4           0  \n",
       "1              0                   C                 4           0  \n",
       "2              0                   C                 4           0  \n",
       "3              0                   C                 4           0  \n",
       "4              0                   C                 4           0  \n",
       "5              0                   C                 4           0  \n",
       "6              0                   C                 4           0  \n",
       "7              0                   C                 4           0  \n",
       "8              0                   C                 4           0  \n",
       "9              0                   C                 4           0  \n",
       "10             0                   C                 4           0  \n",
       "11             0                   C                 4           0  \n",
       "12             0                   C                 4           0  \n",
       "13             0                   C                 4           0  \n",
       "14             0                   C                 4           0  \n",
       "15             0                   C                 4           0  \n",
       "16             0                   C                 4           0  \n",
       "17             0                   C                 4           0  \n",
       "18             0                   C                 4           0  \n",
       "19             0                   C                 4           0  \n",
       "20             0                   C                 4           0  \n",
       "21             0                   C                 4           0  \n",
       "22             0                   C                 4           0  \n",
       "23             0                   C                 4           0  \n",
       "24             0                   C                 4           0  \n",
       "25             0                   C                 4           0  \n",
       "26             0                   C                 4           0  \n",
       "27             0                   C                 4           0  \n",
       "28             0                   C                 4           0  \n",
       "29             0                   C                 4           5  \n",
       "30             0                   C                 4           0  \n",
       "31             0                   C                 4           0  \n",
       "32             0                   C                 4           0  \n",
       "33             0                   C                 4           0  \n",
       "34             0                   C                 4           0  \n",
       "35             0                   C                 4           0  \n",
       "36             0                   C                 4           0  \n",
       "37             0                   C                 4           0  \n",
       "38             0                   C                 4           0  \n",
       "39             0                   C                 4           0  \n",
       "40             0                   C                 4           0  \n",
       "41             0                   C                 4           0  \n",
       "42             0                   C                 4           0  \n",
       "43             0                   C                 4           0  \n",
       "44             0                   C                 4           0  \n",
       "45             0                   C                 4           0  "
      ],
      "text/html": "<div>\n<style scoped>\n    .dataframe tbody tr th:only-of-type {\n        vertical-align: middle;\n    }\n\n    .dataframe tbody tr th {\n        vertical-align: top;\n    }\n\n    .dataframe thead th {\n        text-align: right;\n    }\n</style>\n<table border=\"1\" class=\"dataframe\">\n  <thead>\n    <tr style=\"text-align: right;\">\n      <th></th>\n      <th>referenceTime</th>\n      <th>Unnamed: 0</th>\n      <th>index</th>\n      <th>sourceId</th>\n      <th>air_temperature(degC)</th>\n      <th>height_above_ground(m)</th>\n      <th>timeOffset</th>\n      <th>timeResolution</th>\n      <th>timeSeriesId</th>\n      <th>performanceCategory</th>\n      <th>exposureCategory</th>\n      <th>qualityCode</th>\n    </tr>\n  </thead>\n  <tbody>\n    <tr>\n      <th>0</th>\n      <td>2016-05-24 07:00:00+00:00</td>\n      <td>18251</td>\n      <td>18251</td>\n      <td>sn18690:0</td>\n      <td>0.0</td>\n      <td>2.0</td>\n      <td>PT0H</td>\n      <td>PT10M</td>\n      <td>0</td>\n      <td>C</td>\n      <td>4</td>\n      <td>0</td>\n    </tr>\n    <tr>\n      <th>1</th>\n      <td>2016-05-24 10:00:00+00:00</td>\n      <td>18251</td>\n      <td>18251</td>\n      <td>sn18690:0</td>\n      <td>0.0</td>\n      <td>2.0</td>\n      <td>PT0H</td>\n      <td>PT10M</td>\n      <td>0</td>\n      <td>C</td>\n      <td>4</td>\n      <td>0</td>\n    </tr>\n    <tr>\n      <th>2</th>\n      <td>2016-05-24 14:00:00+00:00</td>\n      <td>18252</td>\n      <td>18252</td>\n      <td>sn18690:0</td>\n      <td>0.0</td>\n      <td>2.0</td>\n      <td>PT0H</td>\n      <td>PT10M</td>\n      <td>0</td>\n      <td>C</td>\n      <td>4</td>\n      <td>0</td>\n    </tr>\n    <tr>\n      <th>3</th>\n      <td>2016-05-24 16:00:00+00:00</td>\n      <td>18252</td>\n      <td>18252</td>\n      <td>sn18690:0</td>\n      <td>0.0</td>\n      <td>2.0</td>\n      <td>PT0H</td>\n      <td>PT10M</td>\n      <td>0</td>\n      <td>C</td>\n      <td>4</td>\n      <td>0</td>\n    </tr>\n    <tr>\n      <th>4</th>\n      <td>2016-05-25 07:00:00+00:00</td>\n      <td>18252</td>\n      <td>18252</td>\n      <td>sn18690:0</td>\n      <td>0.0</td>\n      <td>2.0</td>\n      <td>PT0H</td>\n      <td>PT10M</td>\n      <td>0</td>\n      <td>C</td>\n      <td>4</td>\n      <td>0</td>\n    </tr>\n    <tr>\n      <th>5</th>\n      <td>2016-05-25 11:00:00+00:00</td>\n      <td>18252</td>\n      <td>18252</td>\n      <td>sn18690:0</td>\n      <td>0.0</td>\n      <td>2.0</td>\n      <td>PT0H</td>\n      <td>PT10M</td>\n      <td>0</td>\n      <td>C</td>\n      <td>4</td>\n      <td>0</td>\n    </tr>\n    <tr>\n      <th>6</th>\n      <td>2016-05-25 13:00:00+00:00</td>\n      <td>18252</td>\n      <td>18252</td>\n      <td>sn18690:0</td>\n      <td>0.0</td>\n      <td>2.0</td>\n      <td>PT0H</td>\n      <td>PT10M</td>\n      <td>0</td>\n      <td>C</td>\n      <td>4</td>\n      <td>0</td>\n    </tr>\n    <tr>\n      <th>7</th>\n      <td>2016-05-25 16:00:00+00:00</td>\n      <td>18252</td>\n      <td>18252</td>\n      <td>sn18690:0</td>\n      <td>0.0</td>\n      <td>2.0</td>\n      <td>PT0H</td>\n      <td>PT10M</td>\n      <td>0</td>\n      <td>C</td>\n      <td>4</td>\n      <td>0</td>\n    </tr>\n    <tr>\n      <th>8</th>\n      <td>2016-05-26 07:00:00+00:00</td>\n      <td>18252</td>\n      <td>18252</td>\n      <td>sn18690:0</td>\n      <td>0.0</td>\n      <td>2.0</td>\n      <td>PT0H</td>\n      <td>PT10M</td>\n      <td>0</td>\n      <td>C</td>\n      <td>4</td>\n      <td>0</td>\n    </tr>\n    <tr>\n      <th>9</th>\n      <td>2016-05-26 10:00:00+00:00</td>\n      <td>18252</td>\n      <td>18252</td>\n      <td>sn18690:0</td>\n      <td>0.0</td>\n      <td>2.0</td>\n      <td>PT0H</td>\n      <td>PT10M</td>\n      <td>0</td>\n      <td>C</td>\n      <td>4</td>\n      <td>0</td>\n    </tr>\n    <tr>\n      <th>10</th>\n      <td>2016-05-26 13:00:00+00:00</td>\n      <td>18252</td>\n      <td>18252</td>\n      <td>sn18690:0</td>\n      <td>0.0</td>\n      <td>2.0</td>\n      <td>PT0H</td>\n      <td>PT10M</td>\n      <td>0</td>\n      <td>C</td>\n      <td>4</td>\n      <td>0</td>\n    </tr>\n    <tr>\n      <th>11</th>\n      <td>2016-05-26 16:00:00+00:00</td>\n      <td>18252</td>\n      <td>18252</td>\n      <td>sn18690:0</td>\n      <td>0.0</td>\n      <td>2.0</td>\n      <td>PT0H</td>\n      <td>PT10M</td>\n      <td>0</td>\n      <td>C</td>\n      <td>4</td>\n      <td>0</td>\n    </tr>\n    <tr>\n      <th>12</th>\n      <td>2016-05-27 07:00:00+00:00</td>\n      <td>18252</td>\n      <td>18252</td>\n      <td>sn18690:0</td>\n      <td>0.0</td>\n      <td>2.0</td>\n      <td>PT0H</td>\n      <td>PT10M</td>\n      <td>0</td>\n      <td>C</td>\n      <td>4</td>\n      <td>0</td>\n    </tr>\n    <tr>\n      <th>13</th>\n      <td>2016-05-27 10:00:00+00:00</td>\n      <td>18252</td>\n      <td>18252</td>\n      <td>sn18690:0</td>\n      <td>0.0</td>\n      <td>2.0</td>\n      <td>PT0H</td>\n      <td>PT10M</td>\n      <td>0</td>\n      <td>C</td>\n      <td>4</td>\n      <td>0</td>\n    </tr>\n    <tr>\n      <th>14</th>\n      <td>2016-05-27 14:00:00+00:00</td>\n      <td>18252</td>\n      <td>18252</td>\n      <td>sn18690:0</td>\n      <td>0.0</td>\n      <td>2.0</td>\n      <td>PT0H</td>\n      <td>PT10M</td>\n      <td>0</td>\n      <td>C</td>\n      <td>4</td>\n      <td>0</td>\n    </tr>\n    <tr>\n      <th>15</th>\n      <td>2016-05-27 16:00:00+00:00</td>\n      <td>18252</td>\n      <td>18252</td>\n      <td>sn18690:0</td>\n      <td>0.0</td>\n      <td>2.0</td>\n      <td>PT0H</td>\n      <td>PT10M</td>\n      <td>0</td>\n      <td>C</td>\n      <td>4</td>\n      <td>0</td>\n    </tr>\n    <tr>\n      <th>16</th>\n      <td>2016-05-28 07:00:00+00:00</td>\n      <td>18256</td>\n      <td>18256</td>\n      <td>sn18690:0</td>\n      <td>0.0</td>\n      <td>2.0</td>\n      <td>PT0H</td>\n      <td>PT10M</td>\n      <td>0</td>\n      <td>C</td>\n      <td>4</td>\n      <td>0</td>\n    </tr>\n    <tr>\n      <th>17</th>\n      <td>2016-05-28 10:00:00+00:00</td>\n      <td>18256</td>\n      <td>18256</td>\n      <td>sn18690:0</td>\n      <td>0.0</td>\n      <td>2.0</td>\n      <td>PT0H</td>\n      <td>PT10M</td>\n      <td>0</td>\n      <td>C</td>\n      <td>4</td>\n      <td>0</td>\n    </tr>\n    <tr>\n      <th>18</th>\n      <td>2016-05-28 13:00:00+00:00</td>\n      <td>18256</td>\n      <td>18256</td>\n      <td>sn18690:0</td>\n      <td>0.0</td>\n      <td>2.0</td>\n      <td>PT0H</td>\n      <td>PT10M</td>\n      <td>0</td>\n      <td>C</td>\n      <td>4</td>\n      <td>0</td>\n    </tr>\n    <tr>\n      <th>19</th>\n      <td>2016-05-28 16:00:00+00:00</td>\n      <td>18256</td>\n      <td>18256</td>\n      <td>sn18690:0</td>\n      <td>0.0</td>\n      <td>2.0</td>\n      <td>PT0H</td>\n      <td>PT10M</td>\n      <td>0</td>\n      <td>C</td>\n      <td>4</td>\n      <td>0</td>\n    </tr>\n    <tr>\n      <th>20</th>\n      <td>2016-05-29 07:00:00+00:00</td>\n      <td>18256</td>\n      <td>18256</td>\n      <td>sn18690:0</td>\n      <td>0.0</td>\n      <td>2.0</td>\n      <td>PT0H</td>\n      <td>PT10M</td>\n      <td>0</td>\n      <td>C</td>\n      <td>4</td>\n      <td>0</td>\n    </tr>\n    <tr>\n      <th>21</th>\n      <td>2016-05-29 10:00:00+00:00</td>\n      <td>18256</td>\n      <td>18256</td>\n      <td>sn18690:0</td>\n      <td>0.0</td>\n      <td>2.0</td>\n      <td>PT0H</td>\n      <td>PT10M</td>\n      <td>0</td>\n      <td>C</td>\n      <td>4</td>\n      <td>0</td>\n    </tr>\n    <tr>\n      <th>22</th>\n      <td>2016-05-29 13:00:00+00:00</td>\n      <td>18256</td>\n      <td>18256</td>\n      <td>sn18690:0</td>\n      <td>0.0</td>\n      <td>2.0</td>\n      <td>PT0H</td>\n      <td>PT10M</td>\n      <td>0</td>\n      <td>C</td>\n      <td>4</td>\n      <td>0</td>\n    </tr>\n    <tr>\n      <th>23</th>\n      <td>2016-05-29 16:00:00+00:00</td>\n      <td>18256</td>\n      <td>18256</td>\n      <td>sn18690:0</td>\n      <td>0.0</td>\n      <td>2.0</td>\n      <td>PT0H</td>\n      <td>PT10M</td>\n      <td>0</td>\n      <td>C</td>\n      <td>4</td>\n      <td>0</td>\n    </tr>\n    <tr>\n      <th>24</th>\n      <td>2016-05-30 07:00:00+00:00</td>\n      <td>18257</td>\n      <td>18257</td>\n      <td>sn18690:0</td>\n      <td>21.4</td>\n      <td>2.0</td>\n      <td>PT0H</td>\n      <td>PT10M</td>\n      <td>0</td>\n      <td>C</td>\n      <td>4</td>\n      <td>0</td>\n    </tr>\n    <tr>\n      <th>25</th>\n      <td>2016-05-30 10:00:00+00:00</td>\n      <td>18257</td>\n      <td>18257</td>\n      <td>sn18690:0</td>\n      <td>21.4</td>\n      <td>2.0</td>\n      <td>PT0H</td>\n      <td>PT10M</td>\n      <td>0</td>\n      <td>C</td>\n      <td>4</td>\n      <td>0</td>\n    </tr>\n    <tr>\n      <th>26</th>\n      <td>2016-05-30 14:00:00+00:00</td>\n      <td>18257</td>\n      <td>18257</td>\n      <td>sn18690:0</td>\n      <td>21.4</td>\n      <td>2.0</td>\n      <td>PT0H</td>\n      <td>PT10M</td>\n      <td>0</td>\n      <td>C</td>\n      <td>4</td>\n      <td>0</td>\n    </tr>\n    <tr>\n      <th>27</th>\n      <td>2016-05-30 16:00:00+00:00</td>\n      <td>18257</td>\n      <td>18257</td>\n      <td>sn18690:0</td>\n      <td>21.4</td>\n      <td>2.0</td>\n      <td>PT0H</td>\n      <td>PT10M</td>\n      <td>0</td>\n      <td>C</td>\n      <td>4</td>\n      <td>0</td>\n    </tr>\n    <tr>\n      <th>28</th>\n      <td>2016-05-31 07:00:00+00:00</td>\n      <td>18257</td>\n      <td>18257</td>\n      <td>sn18690:0</td>\n      <td>21.4</td>\n      <td>2.0</td>\n      <td>PT0H</td>\n      <td>PT10M</td>\n      <td>0</td>\n      <td>C</td>\n      <td>4</td>\n      <td>0</td>\n    </tr>\n    <tr>\n      <th>29</th>\n      <td>2016-06-04 19:00:00+00:00</td>\n      <td>18875</td>\n      <td>18875</td>\n      <td>sn18690:0</td>\n      <td>19.8</td>\n      <td>2.0</td>\n      <td>PT0H</td>\n      <td>PT10M</td>\n      <td>0</td>\n      <td>C</td>\n      <td>4</td>\n      <td>5</td>\n    </tr>\n    <tr>\n      <th>30</th>\n      <td>2016-08-15 13:00:00+00:00</td>\n      <td>28650</td>\n      <td>28650</td>\n      <td>sn18690:0</td>\n      <td>17.9</td>\n      <td>2.0</td>\n      <td>PT0H</td>\n      <td>PT10M</td>\n      <td>0</td>\n      <td>C</td>\n      <td>4</td>\n      <td>0</td>\n    </tr>\n    <tr>\n      <th>31</th>\n      <td>2016-08-15 16:00:00+00:00</td>\n      <td>28650</td>\n      <td>28650</td>\n      <td>sn18690:0</td>\n      <td>17.9</td>\n      <td>2.0</td>\n      <td>PT0H</td>\n      <td>PT10M</td>\n      <td>0</td>\n      <td>C</td>\n      <td>4</td>\n      <td>0</td>\n    </tr>\n    <tr>\n      <th>32</th>\n      <td>2017-09-19 16:00:00+00:00</td>\n      <td>83493</td>\n      <td>36577</td>\n      <td>sn18690:0</td>\n      <td>11.5</td>\n      <td>2.0</td>\n      <td>PT0H</td>\n      <td>PT10M</td>\n      <td>0</td>\n      <td>C</td>\n      <td>4</td>\n      <td>0</td>\n    </tr>\n    <tr>\n      <th>33</th>\n      <td>2017-09-20 07:00:00+00:00</td>\n      <td>83494</td>\n      <td>36578</td>\n      <td>sn18690:0</td>\n      <td>10.9</td>\n      <td>2.0</td>\n      <td>PT0H</td>\n      <td>PT10M</td>\n      <td>0</td>\n      <td>C</td>\n      <td>4</td>\n      <td>0</td>\n    </tr>\n    <tr>\n      <th>34</th>\n      <td>2017-09-20 10:00:00+00:00</td>\n      <td>83494</td>\n      <td>36578</td>\n      <td>sn18690:0</td>\n      <td>10.9</td>\n      <td>2.0</td>\n      <td>PT0H</td>\n      <td>PT10M</td>\n      <td>0</td>\n      <td>C</td>\n      <td>4</td>\n      <td>0</td>\n    </tr>\n    <tr>\n      <th>35</th>\n      <td>2019-05-29 07:00:00+00:00</td>\n      <td>167458</td>\n      <td>20157</td>\n      <td>sn18690:0</td>\n      <td>4.6</td>\n      <td>2.0</td>\n      <td>PT0H</td>\n      <td>PT10M</td>\n      <td>0</td>\n      <td>C</td>\n      <td>4</td>\n      <td>0</td>\n    </tr>\n    <tr>\n      <th>36</th>\n      <td>2019-05-29 10:00:00+00:00</td>\n      <td>167458</td>\n      <td>20157</td>\n      <td>sn18690:0</td>\n      <td>4.6</td>\n      <td>2.0</td>\n      <td>PT0H</td>\n      <td>PT10M</td>\n      <td>0</td>\n      <td>C</td>\n      <td>4</td>\n      <td>0</td>\n    </tr>\n    <tr>\n      <th>37</th>\n      <td>2019-05-29 13:00:00+00:00</td>\n      <td>167458</td>\n      <td>20157</td>\n      <td>sn18690:0</td>\n      <td>4.6</td>\n      <td>2.0</td>\n      <td>PT0H</td>\n      <td>PT10M</td>\n      <td>0</td>\n      <td>C</td>\n      <td>4</td>\n      <td>0</td>\n    </tr>\n    <tr>\n      <th>38</th>\n      <td>2019-05-29 16:00:00+00:00</td>\n      <td>167458</td>\n      <td>20157</td>\n      <td>sn18690:0</td>\n      <td>4.6</td>\n      <td>2.0</td>\n      <td>PT0H</td>\n      <td>PT10M</td>\n      <td>0</td>\n      <td>C</td>\n      <td>4</td>\n      <td>0</td>\n    </tr>\n    <tr>\n      <th>39</th>\n      <td>2019-05-30 07:00:00+00:00</td>\n      <td>167459</td>\n      <td>20158</td>\n      <td>sn18690:0</td>\n      <td>10.6</td>\n      <td>2.0</td>\n      <td>PT0H</td>\n      <td>PT10M</td>\n      <td>0</td>\n      <td>C</td>\n      <td>4</td>\n      <td>0</td>\n    </tr>\n    <tr>\n      <th>40</th>\n      <td>2019-05-30 10:00:00+00:00</td>\n      <td>167459</td>\n      <td>20158</td>\n      <td>sn18690:0</td>\n      <td>10.6</td>\n      <td>2.0</td>\n      <td>PT0H</td>\n      <td>PT10M</td>\n      <td>0</td>\n      <td>C</td>\n      <td>4</td>\n      <td>0</td>\n    </tr>\n    <tr>\n      <th>41</th>\n      <td>2019-05-30 13:00:00+00:00</td>\n      <td>167459</td>\n      <td>20158</td>\n      <td>sn18690:0</td>\n      <td>10.6</td>\n      <td>2.0</td>\n      <td>PT0H</td>\n      <td>PT10M</td>\n      <td>0</td>\n      <td>C</td>\n      <td>4</td>\n      <td>0</td>\n    </tr>\n    <tr>\n      <th>42</th>\n      <td>2019-05-30 16:00:00+00:00</td>\n      <td>167459</td>\n      <td>20158</td>\n      <td>sn18690:0</td>\n      <td>10.6</td>\n      <td>2.0</td>\n      <td>PT0H</td>\n      <td>PT10M</td>\n      <td>0</td>\n      <td>C</td>\n      <td>4</td>\n      <td>0</td>\n    </tr>\n    <tr>\n      <th>43</th>\n      <td>2019-05-31 07:00:00+00:00</td>\n      <td>167459</td>\n      <td>20158</td>\n      <td>sn18690:0</td>\n      <td>10.6</td>\n      <td>2.0</td>\n      <td>PT0H</td>\n      <td>PT10M</td>\n      <td>0</td>\n      <td>C</td>\n      <td>4</td>\n      <td>0</td>\n    </tr>\n    <tr>\n      <th>44</th>\n      <td>2019-08-27 10:00:00+00:00</td>\n      <td>179739</td>\n      <td>32438</td>\n      <td>sn18690:0</td>\n      <td>16.4</td>\n      <td>2.0</td>\n      <td>PT0H</td>\n      <td>PT10M</td>\n      <td>0</td>\n      <td>C</td>\n      <td>4</td>\n      <td>0</td>\n    </tr>\n    <tr>\n      <th>45</th>\n      <td>2019-08-29 07:00:00+00:00</td>\n      <td>179981</td>\n      <td>32680</td>\n      <td>sn18690:0</td>\n      <td>14.5</td>\n      <td>2.0</td>\n      <td>PT0H</td>\n      <td>PT10M</td>\n      <td>0</td>\n      <td>C</td>\n      <td>4</td>\n      <td>0</td>\n    </tr>\n  </tbody>\n</table>\n</div>"
     },
     "metadata": {},
     "execution_count": 8
    }
   ],
   "source": [
    "fill"
   ]
  },
  {
   "cell_type": "code",
   "execution_count": 9,
   "metadata": {},
   "outputs": [
    {
     "output_type": "execute_result",
     "data": {
      "text/plain": [
       "2327"
      ]
     },
     "metadata": {},
     "execution_count": 9
    }
   ],
   "source": [
    "# Timeseries with all necessary times\n",
    "timeseries_filled = timeseries.append(fill)\n",
    "timeseries_filled = timeseries_filled.reset_index()\n",
    "\n",
    "len(timeseries_filled)"
   ]
  },
  {
   "cell_type": "code",
   "execution_count": 10,
   "metadata": {},
   "outputs": [
    {
     "output_type": "execute_result",
     "data": {
      "text/plain": [
       "                           Unnamed: 0  water_temp  SN19710air_temperature0  \\\n",
       "time                                                                         \n",
       "2016-05-24 07:00:00+00:00           0        11.7                      8.5   \n",
       "2016-05-24 10:00:00+00:00           1        12.0                      9.8   \n",
       "2016-05-24 14:00:00+00:00           2        12.1                     13.0   \n",
       "2016-05-24 16:00:00+00:00           3        12.3                     12.4   \n",
       "2016-05-25 07:00:00+00:00           4        11.6                     11.9   \n",
       "...                               ...         ...                      ...   \n",
       "2020-09-14 08:00:00+00:00        2322        15.6                     16.1   \n",
       "2020-09-14 10:00:00+00:00        2323        15.7                     19.4   \n",
       "2020-09-14 13:00:00+00:00        2324        16.0                     19.7   \n",
       "2020-09-14 16:00:00+00:00        2325        15.8                     21.0   \n",
       "2020-09-15 07:00:00+00:00        2326        15.6                     13.1   \n",
       "\n",
       "                           SN19940air_temperature0  SN18815air_temperature0  \\\n",
       "time                                                                          \n",
       "2016-05-24 07:00:00+00:00                      9.5                     11.0   \n",
       "2016-05-24 10:00:00+00:00                     11.1                     10.8   \n",
       "2016-05-24 14:00:00+00:00                     14.2                     13.0   \n",
       "2016-05-24 16:00:00+00:00                     13.9                     13.9   \n",
       "2016-05-25 07:00:00+00:00                     11.6                     13.0   \n",
       "...                                            ...                      ...   \n",
       "2020-09-14 08:00:00+00:00                     16.6                     16.7   \n",
       "2020-09-14 10:00:00+00:00                     19.5                     19.4   \n",
       "2020-09-14 13:00:00+00:00                     21.3                     21.1   \n",
       "2020-09-14 16:00:00+00:00                     20.9                     19.6   \n",
       "2020-09-15 07:00:00+00:00                     13.0                     14.1   \n",
       "\n",
       "                           SN18700wind_speed0  SN18700wind_speed1  \\\n",
       "time                                                                \n",
       "2016-05-24 07:00:00+00:00                 4.8                 4.8   \n",
       "2016-05-24 10:00:00+00:00                 2.6                 2.6   \n",
       "2016-05-24 14:00:00+00:00                 4.7                 4.7   \n",
       "2016-05-24 16:00:00+00:00                 5.9                 5.9   \n",
       "2016-05-25 07:00:00+00:00                 6.8                 6.8   \n",
       "...                                       ...                 ...   \n",
       "2020-09-14 08:00:00+00:00                 1.6                 1.6   \n",
       "2020-09-14 10:00:00+00:00                 1.5                 1.5   \n",
       "2020-09-14 13:00:00+00:00                 2.5                 2.5   \n",
       "2020-09-14 16:00:00+00:00                 1.8                 1.8   \n",
       "2020-09-15 07:00:00+00:00                 0.4                 0.4   \n",
       "\n",
       "                           SN26900wind_speed0  SN26900wind_speed1  \\\n",
       "time                                                                \n",
       "2016-05-24 07:00:00+00:00                 1.8                 1.8   \n",
       "2016-05-24 10:00:00+00:00                 1.3                 1.3   \n",
       "2016-05-24 14:00:00+00:00                 1.1                 1.1   \n",
       "2016-05-24 16:00:00+00:00                 2.3                 2.3   \n",
       "2016-05-25 07:00:00+00:00                 3.9                 3.9   \n",
       "...                                       ...                 ...   \n",
       "2020-09-14 08:00:00+00:00                 0.3                 0.3   \n",
       "2020-09-14 10:00:00+00:00                 2.4                 2.4   \n",
       "2020-09-14 13:00:00+00:00                 2.4                 2.4   \n",
       "2020-09-14 16:00:00+00:00                 1.7                 1.7   \n",
       "2020-09-15 07:00:00+00:00                 0.1                 0.1   \n",
       "\n",
       "                           SN18700mean(surface_downwelling_shortwave_flux_in_air PT1H)0  \\\n",
       "time                                                                                      \n",
       "2016-05-24 07:00:00+00:00                                              45.49              \n",
       "2016-05-24 10:00:00+00:00                                              59.10              \n",
       "2016-05-24 14:00:00+00:00                                             383.51              \n",
       "2016-05-24 16:00:00+00:00                                             317.70              \n",
       "2016-05-25 07:00:00+00:00                                             448.97              \n",
       "...                                                                      ...              \n",
       "2020-09-14 08:00:00+00:00                                             230.12              \n",
       "2020-09-14 10:00:00+00:00                                             422.80              \n",
       "2020-09-14 13:00:00+00:00                                             287.32              \n",
       "2020-09-14 16:00:00+00:00                                             157.86              \n",
       "2020-09-15 07:00:00+00:00                                              44.22              \n",
       "\n",
       "                           fancyName  \n",
       "time                                  \n",
       "2016-05-24 07:00:00+00:00        0.0  \n",
       "2016-05-24 10:00:00+00:00        0.0  \n",
       "2016-05-24 14:00:00+00:00        0.0  \n",
       "2016-05-24 16:00:00+00:00        0.0  \n",
       "2016-05-25 07:00:00+00:00        0.0  \n",
       "...                              ...  \n",
       "2020-09-14 08:00:00+00:00       15.7  \n",
       "2020-09-14 10:00:00+00:00       18.7  \n",
       "2020-09-14 13:00:00+00:00       21.1  \n",
       "2020-09-14 16:00:00+00:00       20.4  \n",
       "2020-09-15 07:00:00+00:00       14.8  \n",
       "\n",
       "[2327 rows x 11 columns]"
      ],
      "text/html": "<div>\n<style scoped>\n    .dataframe tbody tr th:only-of-type {\n        vertical-align: middle;\n    }\n\n    .dataframe tbody tr th {\n        vertical-align: top;\n    }\n\n    .dataframe thead th {\n        text-align: right;\n    }\n</style>\n<table border=\"1\" class=\"dataframe\">\n  <thead>\n    <tr style=\"text-align: right;\">\n      <th></th>\n      <th>Unnamed: 0</th>\n      <th>water_temp</th>\n      <th>SN19710air_temperature0</th>\n      <th>SN19940air_temperature0</th>\n      <th>SN18815air_temperature0</th>\n      <th>SN18700wind_speed0</th>\n      <th>SN18700wind_speed1</th>\n      <th>SN26900wind_speed0</th>\n      <th>SN26900wind_speed1</th>\n      <th>SN18700mean(surface_downwelling_shortwave_flux_in_air PT1H)0</th>\n      <th>fancyName</th>\n    </tr>\n    <tr>\n      <th>time</th>\n      <th></th>\n      <th></th>\n      <th></th>\n      <th></th>\n      <th></th>\n      <th></th>\n      <th></th>\n      <th></th>\n      <th></th>\n      <th></th>\n      <th></th>\n    </tr>\n  </thead>\n  <tbody>\n    <tr>\n      <th>2016-05-24 07:00:00+00:00</th>\n      <td>0</td>\n      <td>11.7</td>\n      <td>8.5</td>\n      <td>9.5</td>\n      <td>11.0</td>\n      <td>4.8</td>\n      <td>4.8</td>\n      <td>1.8</td>\n      <td>1.8</td>\n      <td>45.49</td>\n      <td>0.0</td>\n    </tr>\n    <tr>\n      <th>2016-05-24 10:00:00+00:00</th>\n      <td>1</td>\n      <td>12.0</td>\n      <td>9.8</td>\n      <td>11.1</td>\n      <td>10.8</td>\n      <td>2.6</td>\n      <td>2.6</td>\n      <td>1.3</td>\n      <td>1.3</td>\n      <td>59.10</td>\n      <td>0.0</td>\n    </tr>\n    <tr>\n      <th>2016-05-24 14:00:00+00:00</th>\n      <td>2</td>\n      <td>12.1</td>\n      <td>13.0</td>\n      <td>14.2</td>\n      <td>13.0</td>\n      <td>4.7</td>\n      <td>4.7</td>\n      <td>1.1</td>\n      <td>1.1</td>\n      <td>383.51</td>\n      <td>0.0</td>\n    </tr>\n    <tr>\n      <th>2016-05-24 16:00:00+00:00</th>\n      <td>3</td>\n      <td>12.3</td>\n      <td>12.4</td>\n      <td>13.9</td>\n      <td>13.9</td>\n      <td>5.9</td>\n      <td>5.9</td>\n      <td>2.3</td>\n      <td>2.3</td>\n      <td>317.70</td>\n      <td>0.0</td>\n    </tr>\n    <tr>\n      <th>2016-05-25 07:00:00+00:00</th>\n      <td>4</td>\n      <td>11.6</td>\n      <td>11.9</td>\n      <td>11.6</td>\n      <td>13.0</td>\n      <td>6.8</td>\n      <td>6.8</td>\n      <td>3.9</td>\n      <td>3.9</td>\n      <td>448.97</td>\n      <td>0.0</td>\n    </tr>\n    <tr>\n      <th>...</th>\n      <td>...</td>\n      <td>...</td>\n      <td>...</td>\n      <td>...</td>\n      <td>...</td>\n      <td>...</td>\n      <td>...</td>\n      <td>...</td>\n      <td>...</td>\n      <td>...</td>\n      <td>...</td>\n    </tr>\n    <tr>\n      <th>2020-09-14 08:00:00+00:00</th>\n      <td>2322</td>\n      <td>15.6</td>\n      <td>16.1</td>\n      <td>16.6</td>\n      <td>16.7</td>\n      <td>1.6</td>\n      <td>1.6</td>\n      <td>0.3</td>\n      <td>0.3</td>\n      <td>230.12</td>\n      <td>15.7</td>\n    </tr>\n    <tr>\n      <th>2020-09-14 10:00:00+00:00</th>\n      <td>2323</td>\n      <td>15.7</td>\n      <td>19.4</td>\n      <td>19.5</td>\n      <td>19.4</td>\n      <td>1.5</td>\n      <td>1.5</td>\n      <td>2.4</td>\n      <td>2.4</td>\n      <td>422.80</td>\n      <td>18.7</td>\n    </tr>\n    <tr>\n      <th>2020-09-14 13:00:00+00:00</th>\n      <td>2324</td>\n      <td>16.0</td>\n      <td>19.7</td>\n      <td>21.3</td>\n      <td>21.1</td>\n      <td>2.5</td>\n      <td>2.5</td>\n      <td>2.4</td>\n      <td>2.4</td>\n      <td>287.32</td>\n      <td>21.1</td>\n    </tr>\n    <tr>\n      <th>2020-09-14 16:00:00+00:00</th>\n      <td>2325</td>\n      <td>15.8</td>\n      <td>21.0</td>\n      <td>20.9</td>\n      <td>19.6</td>\n      <td>1.8</td>\n      <td>1.8</td>\n      <td>1.7</td>\n      <td>1.7</td>\n      <td>157.86</td>\n      <td>20.4</td>\n    </tr>\n    <tr>\n      <th>2020-09-15 07:00:00+00:00</th>\n      <td>2326</td>\n      <td>15.6</td>\n      <td>13.1</td>\n      <td>13.0</td>\n      <td>14.1</td>\n      <td>0.4</td>\n      <td>0.4</td>\n      <td>0.1</td>\n      <td>0.1</td>\n      <td>44.22</td>\n      <td>14.8</td>\n    </tr>\n  </tbody>\n</table>\n<p>2327 rows × 11 columns</p>\n</div>"
     },
     "metadata": {},
     "execution_count": 10
    }
   ],
   "source": [
    "# (Complete) inner join for dataset with new observations\n",
    "timeseries_filled = timeseries_filled.rename(columns={\"referenceTime\":\"time\", param:\"fancyName\"})\n",
    "\n",
    "full_data = pd.concat([data.set_index(\"time\"),timeseries_filled.set_index(\"time\")[\"fancyName\"]], join=\"inner\",axis=1)\n",
    "\n",
    "full_data\n"
   ]
  },
  {
   "cell_type": "code",
   "execution_count": null,
   "metadata": {},
   "outputs": [],
   "source": []
  }
 ]
}