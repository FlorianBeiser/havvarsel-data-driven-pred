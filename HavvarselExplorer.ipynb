{
 "cells": [
  {
   "cell_type": "markdown",
   "metadata": {},
   "source": [
    "# Fetching observations from MET data base services\n",
    "\n",
    "This notebook serves as sandbox for fetching data from frost.met, havvarsel-frost.met and thredds.met\n",
    "\n",
    "See https://api.met.no/ for all interfaces and possible sources!!\n",
    "\n",
    "\n",
    "## Havvarsel frost\n",
    "Havvarsel frost delivers so far `temperature` measurements originated from badevann.no at seven beaches in the south of Norway (glider data integrated in the meantime, but not yet used here!). \n",
    "> Documentation:\n",
    "> - API documentation for obs/badevann https://havvarsel-frost.met.no/docs/apiref#/obs%2Fbadevann/obsBadevannGet \n",
    "> - Datastructure described on https://havvarsel-frost.met.no/docs/dataset_badevann\n",
    "\n",
    "\n"
   ]
  },
  {
   "cell_type": "code",
   "execution_count": 6,
   "metadata": {},
   "outputs": [],
   "source": [
    "# Importing general libraries\n",
    "import sys\n",
    "import json\n",
    "import datetime\n",
    "import requests\n",
    "\n",
    "import numpy as np\n",
    "import pandas as pd\n",
    "import matplotlib.pyplot as plt\n"
   ]
  },
  {
   "cell_type": "markdown",
   "metadata": {},
   "source": [
    "### Example to fetch time series"
   ]
  },
  {
   "cell_type": "code",
   "execution_count": 7,
   "metadata": {},
   "outputs": [],
   "source": [
    "start_time = datetime.datetime.strptime(\"2021-10-01T00:00\", \"%Y-%m-%dT%H:%M\")\n",
    "end_time = datetime.datetime.strptime(\"2021-11-01T00:00\", \"%Y-%m-%dT%H:%M\")\n"
   ]
  },
  {
   "cell_type": "code",
   "execution_count": 8,
   "metadata": {},
   "outputs": [],
   "source": [
    "frost_api_base=\"https://havvarsel-frost.met.no\"\n",
    "endpoint = frost_api_base + \"/api/v1/obs/badevann/get\"\n",
    "\n",
    "payload = {'time': str(start_time.isoformat()) + \"Z/\" + str(end_time.isoformat()) + \"Z\", \n",
    "                    'incobs':'true', 'buoyids': 38, 'parameter':'temperature'}\n",
    "# the havvarsel-frost API uses colon in the url and does not replace them with ASCI what is default\n",
    "payload_str = \"&\".join(\"%s=%s\" % (k,v) for k,v in payload.items())"
   ]
  },
  {
   "cell_type": "code",
   "execution_count": 9,
   "metadata": {},
   "outputs": [
    {
     "name": "stdout",
     "output_type": "stream",
     "text": [
      "Trying https://havvarsel-frost.met.no/api/v1/obs/badevann/get?time=2021-10-01T00:00:00Z/2021-11-01T00:00:00Z&incobs=true&buoyids=38&parameter=temperature\n"
     ]
    }
   ],
   "source": [
    "try:\n",
    "    r = requests.get(endpoint, params=payload_str)\n",
    "    print(\"Trying \" + r.url)\n",
    "    r.raise_for_status()\n",
    "except requests.exceptions.HTTPError as err:\n",
    "    raise Exception(err)\n"
   ]
  },
  {
   "cell_type": "markdown",
   "metadata": {},
   "source": [
    "### Explore available data"
   ]
  },
  {
   "cell_type": "code",
   "execution_count": 10,
   "metadata": {},
   "outputs": [],
   "source": [
    "badevann_df = pd.DataFrame(columns=['buoyid', 'name', 'lat', 'lon'])\n",
    "\n",
    "for id in range(150):\n",
    "    try:\n",
    "        payload = {'time': str(start_time.isoformat()) + \"Z/\" + str(end_time.isoformat()) + \"Z\", \n",
    "                    'incobs':'true', 'buoyids': id}\n",
    "        payload_str = \"&\".join(\"%s=%s\" % (k,v) for k,v in payload.items())\n",
    "        r = requests.get(endpoint, params=payload_str)\n",
    "        \n",
    "        name = r.json()[\"data\"][\"tseries\"][0][\"header\"][\"extra\"][\"name\"]\n",
    "        lat = r.json()[\"data\"][\"tseries\"][0][\"header\"][\"extra\"][\"pos\"][\"lat\"]\n",
    "        lon = r.json()[\"data\"][\"tseries\"][0][\"header\"][\"extra\"][\"pos\"][\"lon\"]\n",
    "        badevann_df = badevann_df.append({\"buoyid\" : id, \"name\" : name, \"lat\" : lat, \"lon\" : lon}, ignore_index=True)\n",
    "    except:\n",
    "        pass"
   ]
  },
  {
   "cell_type": "code",
   "execution_count": 11,
   "metadata": {},
   "outputs": [
    {
     "data": {
      "text/html": [
       "<div>\n",
       "<style scoped>\n",
       "    .dataframe tbody tr th:only-of-type {\n",
       "        vertical-align: middle;\n",
       "    }\n",
       "\n",
       "    .dataframe tbody tr th {\n",
       "        vertical-align: top;\n",
       "    }\n",
       "\n",
       "    .dataframe thead th {\n",
       "        text-align: right;\n",
       "    }\n",
       "</style>\n",
       "<table border=\"1\" class=\"dataframe\">\n",
       "  <thead>\n",
       "    <tr style=\"text-align: right;\">\n",
       "      <th></th>\n",
       "      <th>buoyid</th>\n",
       "      <th>name</th>\n",
       "      <th>lat</th>\n",
       "      <th>lon</th>\n",
       "    </tr>\n",
       "  </thead>\n",
       "  <tbody>\n",
       "    <tr>\n",
       "      <th>0</th>\n",
       "      <td>5</td>\n",
       "      <td>Aksdalsvatnet</td>\n",
       "      <td>59.416750</td>\n",
       "      <td>5.418333</td>\n",
       "    </tr>\n",
       "    <tr>\n",
       "      <th>1</th>\n",
       "      <td>7</td>\n",
       "      <td>Grønnavigå</td>\n",
       "      <td>58.988380</td>\n",
       "      <td>5.739830</td>\n",
       "    </tr>\n",
       "    <tr>\n",
       "      <th>2</th>\n",
       "      <td>10</td>\n",
       "      <td>Sjøbadet</td>\n",
       "      <td>63.435770</td>\n",
       "      <td>10.390610</td>\n",
       "    </tr>\n",
       "    <tr>\n",
       "      <th>3</th>\n",
       "      <td>11</td>\n",
       "      <td>Munkholmen</td>\n",
       "      <td>63.451380</td>\n",
       "      <td>10.384790</td>\n",
       "    </tr>\n",
       "    <tr>\n",
       "      <th>4</th>\n",
       "      <td>13</td>\n",
       "      <td>Vaulen</td>\n",
       "      <td>58.926347</td>\n",
       "      <td>5.750357</td>\n",
       "    </tr>\n",
       "    <tr>\n",
       "      <th>...</th>\n",
       "      <td>...</td>\n",
       "      <td>...</td>\n",
       "      <td>...</td>\n",
       "      <td>...</td>\n",
       "    </tr>\n",
       "    <tr>\n",
       "      <th>64</th>\n",
       "      <td>128</td>\n",
       "      <td>Volsdalsberga</td>\n",
       "      <td>62.467929</td>\n",
       "      <td>6.198442</td>\n",
       "    </tr>\n",
       "    <tr>\n",
       "      <th>65</th>\n",
       "      <td>129</td>\n",
       "      <td>Sandnessjøen havsbad</td>\n",
       "      <td>65.989325</td>\n",
       "      <td>12.623672</td>\n",
       "    </tr>\n",
       "    <tr>\n",
       "      <th>66</th>\n",
       "      <td>130</td>\n",
       "      <td>Mosvatnet</td>\n",
       "      <td>59.420210</td>\n",
       "      <td>6.447400</td>\n",
       "    </tr>\n",
       "    <tr>\n",
       "      <th>67</th>\n",
       "      <td>131</td>\n",
       "      <td>Våge</td>\n",
       "      <td>60.044350</td>\n",
       "      <td>5.524630</td>\n",
       "    </tr>\n",
       "    <tr>\n",
       "      <th>68</th>\n",
       "      <td>133</td>\n",
       "      <td>Fåholmen badeplass</td>\n",
       "      <td>59.165627</td>\n",
       "      <td>5.878336</td>\n",
       "    </tr>\n",
       "  </tbody>\n",
       "</table>\n",
       "<p>69 rows × 4 columns</p>\n",
       "</div>"
      ],
      "text/plain": [
       "   buoyid                  name        lat        lon\n",
       "0       5         Aksdalsvatnet  59.416750   5.418333\n",
       "1       7            Grønnavigå  58.988380   5.739830\n",
       "2      10              Sjøbadet  63.435770  10.390610\n",
       "3      11            Munkholmen  63.451380  10.384790\n",
       "4      13                Vaulen  58.926347   5.750357\n",
       "..    ...                   ...        ...        ...\n",
       "64    128         Volsdalsberga  62.467929   6.198442\n",
       "65    129  Sandnessjøen havsbad  65.989325  12.623672\n",
       "66    130             Mosvatnet  59.420210   6.447400\n",
       "67    131                  Våge  60.044350   5.524630\n",
       "68    133    Fåholmen badeplass  59.165627   5.878336\n",
       "\n",
       "[69 rows x 4 columns]"
      ]
     },
     "execution_count": 11,
     "metadata": {},
     "output_type": "execute_result"
    }
   ],
   "source": [
    "badevann_df"
   ]
  },
  {
   "cell_type": "code",
   "execution_count": 18,
   "metadata": {},
   "outputs": [
    {
     "data": {
      "text/plain": [
       "array([ 5.418333,  5.73983 , 10.39061 , 10.38479 ,  5.750357,  5.7565  ,\n",
       "        5.749064,  5.67038 ,  5.84833 ,  7.77995 ,  6.14862 ,  6.20512 ,\n",
       "       10.18897 , 10.256319, 14.52015 ,  7.445817,  9.24742 ,  9.29329 ,\n",
       "       10.166689,  7.075648,  8.924298,  9.41161 ,  5.83113 ,  5.600898,\n",
       "        8.768082,  9.653091,  5.57011 ,  6.06663 , 10.204986, 10.217581,\n",
       "       10.148371,  5.57708 ,  5.4646  ,  9.0674  , 12.359083, 23.20955 ,\n",
       "        7.066029,  5.271909,  6.159887,  6.19068 ,  6.163875,  7.216942,\n",
       "        7.169704,  7.083187,  8.007728, 10.7497  ,  5.240368,  5.300414,\n",
       "        5.481414, 11.27526 , 11.58126 , 10.34212 , 11.29408 , 10.88002 ,\n",
       "       10.80266 ,  6.348284,  5.679755,  6.320553,  6.314661, 18.90523 ,\n",
       "        6.568206,  5.626298, 10.651787,  7.471262,  6.198442, 12.623672,\n",
       "        6.4474  ,  5.52463 ,  5.878336])"
      ]
     },
     "execution_count": 18,
     "metadata": {},
     "output_type": "execute_result"
    }
   ],
   "source": [
    "np.array(badevann_df[\"lon\"],dtype=float)"
   ]
  },
  {
   "cell_type": "code",
   "execution_count": 22,
   "metadata": {},
   "outputs": [
    {
     "data": {
      "image/png": "[encoded data removed]",
      "text/plain": [
       "<Figure size 1080x1080 with 1 Axes>"
      ]
     },
     "metadata": {
      "needs_background": "light"
     },
     "output_type": "display_data"
    }
   ],
   "source": [
    "lon = np.array(badevann_df[\"lon\"],dtype=float)\n",
    "lat = np.array(badevann_df[\"lat\"],dtype=float)\n",
    "buoyid = np.array(badevann_df[\"buoyid\"],dtype=int)\n",
    "\n",
    "fig, ax = plt.subplots(1,1,figsize=(15,15))\n",
    "ax.scatter(np.array(badevann_df[\"lon\"],dtype=float), np.array(badevann_df[\"lat\"],dtype=float))\n",
    "\n",
    "for i, txt in enumerate(buoyid):\n",
    "    ax.annotate(str(txt), (lon[i], lat[i]))"
   ]
  },
  {
   "cell_type": "code",
   "execution_count": 15,
   "metadata": {},
   "outputs": [
    {
     "data": {
      "text/plain": [
       "0     59.416750\n",
       "1     58.988380\n",
       "2     63.435770\n",
       "3     63.451380\n",
       "4     58.926347\n",
       "        ...    \n",
       "64    62.467929\n",
       "65    65.989325\n",
       "66    59.420210\n",
       "67    60.044350\n",
       "68    59.165627\n",
       "Name: lat, Length: 69, dtype: object"
      ]
     },
     "execution_count": 15,
     "metadata": {},
     "output_type": "execute_result"
    }
   ],
   "source": [
    "badevann_df[\"lat\"]"
   ]
  },
  {
   "cell_type": "code",
   "execution_count": null,
   "metadata": {},
   "outputs": [],
   "source": []
  },
  {
   "cell_type": "code",
   "execution_count": null,
   "metadata": {},
   "outputs": [],
   "source": [
    "nc = netCDF4.MFDataset([\"https://thredds.met.no/thredds/dodsC/metpparchive/2020/09/01/met_analysis_1_0km_nordic_20200901T00Z.nc\", \n",
    "\"https://thredds.met.no/thredds/dodsC/metpparchive/2020/09/02/met_analysis_1_0km_nordic_20200902T00Z.nc\"])"
   ]
  },
  {
   "cell_type": "code",
   "execution_count": null,
   "metadata": {},
   "outputs": [
    {
     "data": {
      "text/plain": [
       "dict_keys(['ensemble_member', 'forecast_reference_time', 'projection_lcc', 'time', 'x', 'y', 'air_pressure_at_sea_level', 'air_temperature_2m', 'altitude', 'cloud_area_fraction', 'integral_of_surface_downwelling_shortwave_flux_in_air_wrt_time', 'land_area_fraction', 'latitude', 'longitude', 'precipitation_amount', 'relative_humidity_2m', 'wind_direction_10m', 'wind_speed_10m'])"
      ]
     },
     "execution_count": 3,
     "metadata": {},
     "output_type": "execute_result"
    }
   ],
   "source": [
    "nc.variables.keys()"
   ]
  },
  {
   "cell_type": "code",
   "execution_count": null,
   "metadata": {},
   "outputs": [],
   "source": [
    "lon =  10.7166638\n",
    "lat =  59.933329"
   ]
  },
  {
   "cell_type": "code",
   "execution_count": null,
   "metadata": {},
   "outputs": [],
   "source": [
    "proj_args = nc.variables[\"projection_lcc\"].proj4\n",
    "p = proj.Proj(str(proj_args))\n",
    "\n",
    "xp,yp = p(lon,lat)\n",
    "lats = nc.variables[\"latitude\"][:]\n",
    "lons = nc.variables[\"longitude\"][:]\n",
    "xps,yps = p(lons,lats)"
   ]
  },
  {
   "cell_type": "code",
   "execution_count": null,
   "metadata": {},
   "outputs": [],
   "source": [
    "x = (np.abs(xps[0,:]-xp)).argmin()\n",
    "y = (np.abs(yps[:,0]-yp)).argmin()"
   ]
  },
  {
   "cell_type": "code",
   "execution_count": null,
   "metadata": {},
   "outputs": [],
   "source": [
    "cftimes = netCDF4.num2date(nc.variables[\"time\"][:], nc.variables[\"time\"].units)\n",
    "\n",
    "datetimes = []\n",
    "for t in range(len(cftimes)):\n",
    "    new_datetime = datetime.datetime(cftimes[t].year, cftimes[t].month, cftimes[t].day, cftimes[t].hour, cftimes[t].minute)\n",
    "    datetimes.append(new_datetime)"
   ]
  },
  {
   "cell_type": "code",
   "execution_count": null,
   "metadata": {},
   "outputs": [],
   "source": [
    "timeseries = pd.DataFrame()"
   ]
  },
  {
   "cell_type": "code",
   "execution_count": null,
   "metadata": {},
   "outputs": [],
   "source": [
    "param = \"air_temperature_2m\"\n",
    "\n",
    "# EXTRACT DATA\n",
    "data = nc.variables[param][:,y,x]\n",
    "\n",
    "# Dataframe for return\n",
    "new_timeseries = pd.DataFrame({\"referenceTime\":datetimes, param:data})\n",
    "\n",
    "#NOTE: Since the other data sources explicitly specify the time zone\n",
    "# the tz is manually added to the datetime here\n",
    "new_timeseries[\"referenceTime\"] = new_timeseries[\"referenceTime\"].dt.tz_localize(tz=\"UTC\") \n",
    "            \n",
    "# Outer joining dataset\n",
    "if timeseries.empty:\n",
    "    timeseries = new_timeseries\n",
    "else:\n",
    "    timeseries = pd.merge(timeseries.set_index(\"referenceTime\"), new_timeseries.set_index(\"referenceTime\")[param], how=\"outer\", on=\"referenceTime\")\n",
    "    timeseries = timeseries.reset_index()\n"
   ]
  },
  {
   "cell_type": "code",
   "execution_count": null,
   "metadata": {},
   "outputs": [
    {
     "data": {
      "text/html": [
       "<div>\n",
       "<style scoped>\n",
       "    .dataframe tbody tr th:only-of-type {\n",
       "        vertical-align: middle;\n",
       "    }\n",
       "\n",
       "    .dataframe tbody tr th {\n",
       "        vertical-align: top;\n",
       "    }\n",
       "\n",
       "    .dataframe thead th {\n",
       "        text-align: right;\n",
       "    }\n",
       "</style>\n",
       "<table border=\"1\" class=\"dataframe\">\n",
       "  <thead>\n",
       "    <tr style=\"text-align: right;\">\n",
       "      <th></th>\n",
       "      <th>referenceTime</th>\n",
       "      <th>air_temperature_2m</th>\n",
       "    </tr>\n",
       "  </thead>\n",
       "  <tbody>\n",
       "    <tr>\n",
       "      <th>0</th>\n",
       "      <td>2020-09-01 00:00:00+00:00</td>\n",
       "      <td>280.250000</td>\n",
       "    </tr>\n",
       "    <tr>\n",
       "      <th>1</th>\n",
       "      <td>2020-09-02 00:00:00+00:00</td>\n",
       "      <td>282.049988</td>\n",
       "    </tr>\n",
       "  </tbody>\n",
       "</table>\n",
       "</div>"
      ],
      "text/plain": [
       "              referenceTime  air_temperature_2m\n",
       "0 2020-09-01 00:00:00+00:00          280.250000\n",
       "1 2020-09-02 00:00:00+00:00          282.049988"
      ]
     },
     "execution_count": 10,
     "metadata": {},
     "output_type": "execute_result"
    }
   ],
   "source": [
    "timeseries"
   ]
  },
  {
   "cell_type": "code",
   "execution_count": null,
   "metadata": {},
   "outputs": [],
   "source": [
    "param = \"wind_speed_10m\"\n",
    "\n",
    "# EXTRACT DATA\n",
    "data = nc.variables[param][:,y,x]\n",
    "\n",
    "# Dataframe for return\n",
    "new_timeseries = pd.DataFrame({\"referenceTime\":datetimes, param:data})\n",
    "\n",
    "#NOTE: Since the other data sources explicitly specify the time zone\n",
    "# the tz is manually added to the datetime here\n",
    "new_timeseries[\"referenceTime\"] = new_timeseries[\"referenceTime\"].dt.tz_localize(tz=\"UTC\") \n",
    "            \n",
    "# Outer joining dataset\n",
    "if timeseries.empty:\n",
    "    timeseries = new_timeseries\n",
    "else:\n",
    "    timeseries = pd.merge(timeseries.set_index(\"referenceTime\"), new_timeseries.set_index(\"referenceTime\")[param], how=\"outer\", on=\"referenceTime\")\n",
    "    timeseries = timeseries.reset_index()\n"
   ]
  },
  {
   "cell_type": "code",
   "execution_count": null,
   "metadata": {},
   "outputs": [
    {
     "data": {
      "text/html": [
       "<div>\n",
       "<style scoped>\n",
       "    .dataframe tbody tr th:only-of-type {\n",
       "        vertical-align: middle;\n",
       "    }\n",
       "\n",
       "    .dataframe tbody tr th {\n",
       "        vertical-align: top;\n",
       "    }\n",
       "\n",
       "    .dataframe thead th {\n",
       "        text-align: right;\n",
       "    }\n",
       "</style>\n",
       "<table border=\"1\" class=\"dataframe\">\n",
       "  <thead>\n",
       "    <tr style=\"text-align: right;\">\n",
       "      <th></th>\n",
       "      <th>referenceTime</th>\n",
       "      <th>air_temperature_2m</th>\n",
       "      <th>wind_speed_10m</th>\n",
       "    </tr>\n",
       "  </thead>\n",
       "  <tbody>\n",
       "    <tr>\n",
       "      <th>0</th>\n",
       "      <td>2020-09-01 00:00:00+00:00</td>\n",
       "      <td>280.250000</td>\n",
       "      <td>1.419991</td>\n",
       "    </tr>\n",
       "    <tr>\n",
       "      <th>1</th>\n",
       "      <td>2020-09-02 00:00:00+00:00</td>\n",
       "      <td>282.049988</td>\n",
       "      <td>1.404837</td>\n",
       "    </tr>\n",
       "  </tbody>\n",
       "</table>\n",
       "</div>"
      ],
      "text/plain": [
       "              referenceTime  air_temperature_2m  wind_speed_10m\n",
       "0 2020-09-01 00:00:00+00:00          280.250000        1.419991\n",
       "1 2020-09-02 00:00:00+00:00          282.049988        1.404837"
      ]
     },
     "execution_count": 12,
     "metadata": {},
     "output_type": "execute_result"
    }
   ],
   "source": [
    "timeseries"
   ]
  },
  {
   "cell_type": "code",
   "execution_count": null,
   "metadata": {},
   "outputs": [],
   "source": [
    "param = 'cloud_area_fraction'\n",
    "\n",
    "# EXTRACT DATA\n",
    "data = nc.variables[param][:,y,x]\n",
    "\n",
    "# Dataframe for return\n",
    "new_timeseries = pd.DataFrame({\"referenceTime\":datetimes, param:data})\n",
    "\n",
    "#NOTE: Since the other data sources explicitly specify the time zone\n",
    "# the tz is manually added to the datetime here\n",
    "new_timeseries[\"referenceTime\"] = new_timeseries[\"referenceTime\"].dt.tz_localize(tz=\"UTC\") \n",
    "            \n",
    "# Outer joining dataset\n",
    "if timeseries.empty:\n",
    "    timeseries = new_timeseries\n",
    "else:\n",
    "    timeseries = pd.merge(timeseries.set_index(\"referenceTime\"), new_timeseries.set_index(\"referenceTime\")[param], how=\"outer\", on=\"referenceTime\")\n",
    "\n"
   ]
  },
  {
   "cell_type": "code",
   "execution_count": null,
   "metadata": {},
   "outputs": [
    {
     "data": {
      "text/html": [
       "<div>\n",
       "<style scoped>\n",
       "    .dataframe tbody tr th:only-of-type {\n",
       "        vertical-align: middle;\n",
       "    }\n",
       "\n",
       "    .dataframe tbody tr th {\n",
       "        vertical-align: top;\n",
       "    }\n",
       "\n",
       "    .dataframe thead th {\n",
       "        text-align: right;\n",
       "    }\n",
       "</style>\n",
       "<table border=\"1\" class=\"dataframe\">\n",
       "  <thead>\n",
       "    <tr style=\"text-align: right;\">\n",
       "      <th></th>\n",
       "      <th>air_temperature_2m</th>\n",
       "      <th>wind_speed_10m</th>\n",
       "      <th>cloud_area_fraction</th>\n",
       "    </tr>\n",
       "    <tr>\n",
       "      <th>referenceTime</th>\n",
       "      <th></th>\n",
       "      <th></th>\n",
       "      <th></th>\n",
       "    </tr>\n",
       "  </thead>\n",
       "  <tbody>\n",
       "    <tr>\n",
       "      <th>2020-09-01 00:00:00+00:00</th>\n",
       "      <td>280.250000</td>\n",
       "      <td>1.419991</td>\n",
       "      <td>0.0</td>\n",
       "    </tr>\n",
       "    <tr>\n",
       "      <th>2020-09-02 00:00:00+00:00</th>\n",
       "      <td>282.049988</td>\n",
       "      <td>1.404837</td>\n",
       "      <td>0.0</td>\n",
       "    </tr>\n",
       "  </tbody>\n",
       "</table>\n",
       "</div>"
      ],
      "text/plain": [
       "                           air_temperature_2m  wind_speed_10m  \\\n",
       "referenceTime                                                   \n",
       "2020-09-01 00:00:00+00:00          280.250000        1.419991   \n",
       "2020-09-02 00:00:00+00:00          282.049988        1.404837   \n",
       "\n",
       "                           cloud_area_fraction  \n",
       "referenceTime                                   \n",
       "2020-09-01 00:00:00+00:00                  0.0  \n",
       "2020-09-02 00:00:00+00:00                  0.0  "
      ]
     },
     "execution_count": 15,
     "metadata": {},
     "output_type": "execute_result"
    }
   ],
   "source": [
    "timeseries"
   ]
  },
  {
   "cell_type": "code",
   "execution_count": null,
   "metadata": {},
   "outputs": [],
   "source": []
  },
  {
   "cell_type": "code",
   "execution_count": null,
   "metadata": {},
   "outputs": [],
   "source": [
    "times = pd.date_range(start_time, end_time, freq=\"H\")"
   ]
  },
  {
   "cell_type": "code",
   "execution_count": null,
   "metadata": {},
   "outputs": [],
   "source": [
    "times = times.tz_localize(\"UTC\")"
   ]
  },
  {
   "cell_type": "code",
   "execution_count": null,
   "metadata": {},
   "outputs": [],
   "source": [
    "data = pd.DataFrame(times, columns=[\"time\"])"
   ]
  },
  {
   "cell_type": "code",
   "execution_count": null,
   "metadata": {},
   "outputs": [
    {
     "data": {
      "text/html": [
       "<div>\n",
       "<style scoped>\n",
       "    .dataframe tbody tr th:only-of-type {\n",
       "        vertical-align: middle;\n",
       "    }\n",
       "\n",
       "    .dataframe tbody tr th {\n",
       "        vertical-align: top;\n",
       "    }\n",
       "\n",
       "    .dataframe thead th {\n",
       "        text-align: right;\n",
       "    }\n",
       "</style>\n",
       "<table border=\"1\" class=\"dataframe\">\n",
       "  <thead>\n",
       "    <tr style=\"text-align: right;\">\n",
       "      <th></th>\n",
       "      <th>index</th>\n",
       "      <th>time</th>\n",
       "    </tr>\n",
       "  </thead>\n",
       "  <tbody>\n",
       "    <tr>\n",
       "      <th>0</th>\n",
       "      <td>0</td>\n",
       "      <td>2020-01-01 00:00:00+00:00</td>\n",
       "    </tr>\n",
       "    <tr>\n",
       "      <th>1</th>\n",
       "      <td>1</td>\n",
       "      <td>2020-01-01 01:00:00+00:00</td>\n",
       "    </tr>\n",
       "    <tr>\n",
       "      <th>2</th>\n",
       "      <td>2</td>\n",
       "      <td>2020-01-01 02:00:00+00:00</td>\n",
       "    </tr>\n",
       "    <tr>\n",
       "      <th>3</th>\n",
       "      <td>3</td>\n",
       "      <td>2020-01-01 03:00:00+00:00</td>\n",
       "    </tr>\n",
       "    <tr>\n",
       "      <th>4</th>\n",
       "      <td>4</td>\n",
       "      <td>2020-01-01 04:00:00+00:00</td>\n",
       "    </tr>\n",
       "    <tr>\n",
       "      <th>5</th>\n",
       "      <td>5</td>\n",
       "      <td>2020-01-01 05:00:00+00:00</td>\n",
       "    </tr>\n",
       "    <tr>\n",
       "      <th>6</th>\n",
       "      <td>6</td>\n",
       "      <td>2020-01-01 06:00:00+00:00</td>\n",
       "    </tr>\n",
       "    <tr>\n",
       "      <th>7</th>\n",
       "      <td>7</td>\n",
       "      <td>2020-01-01 07:00:00+00:00</td>\n",
       "    </tr>\n",
       "    <tr>\n",
       "      <th>8</th>\n",
       "      <td>8</td>\n",
       "      <td>2020-01-01 08:00:00+00:00</td>\n",
       "    </tr>\n",
       "    <tr>\n",
       "      <th>9</th>\n",
       "      <td>9</td>\n",
       "      <td>2020-01-01 09:00:00+00:00</td>\n",
       "    </tr>\n",
       "    <tr>\n",
       "      <th>10</th>\n",
       "      <td>10</td>\n",
       "      <td>2020-01-01 10:00:00+00:00</td>\n",
       "    </tr>\n",
       "    <tr>\n",
       "      <th>11</th>\n",
       "      <td>11</td>\n",
       "      <td>2020-01-01 11:00:00+00:00</td>\n",
       "    </tr>\n",
       "    <tr>\n",
       "      <th>12</th>\n",
       "      <td>12</td>\n",
       "      <td>2020-01-01 12:00:00+00:00</td>\n",
       "    </tr>\n",
       "    <tr>\n",
       "      <th>13</th>\n",
       "      <td>13</td>\n",
       "      <td>2020-01-01 13:00:00+00:00</td>\n",
       "    </tr>\n",
       "    <tr>\n",
       "      <th>14</th>\n",
       "      <td>14</td>\n",
       "      <td>2020-01-01 14:00:00+00:00</td>\n",
       "    </tr>\n",
       "    <tr>\n",
       "      <th>15</th>\n",
       "      <td>15</td>\n",
       "      <td>2020-01-01 15:00:00+00:00</td>\n",
       "    </tr>\n",
       "    <tr>\n",
       "      <th>16</th>\n",
       "      <td>16</td>\n",
       "      <td>2020-01-01 16:00:00+00:00</td>\n",
       "    </tr>\n",
       "    <tr>\n",
       "      <th>17</th>\n",
       "      <td>17</td>\n",
       "      <td>2020-01-01 17:00:00+00:00</td>\n",
       "    </tr>\n",
       "    <tr>\n",
       "      <th>18</th>\n",
       "      <td>18</td>\n",
       "      <td>2020-01-01 18:00:00+00:00</td>\n",
       "    </tr>\n",
       "    <tr>\n",
       "      <th>19</th>\n",
       "      <td>19</td>\n",
       "      <td>2020-01-01 19:00:00+00:00</td>\n",
       "    </tr>\n",
       "    <tr>\n",
       "      <th>20</th>\n",
       "      <td>20</td>\n",
       "      <td>2020-01-01 20:00:00+00:00</td>\n",
       "    </tr>\n",
       "    <tr>\n",
       "      <th>21</th>\n",
       "      <td>21</td>\n",
       "      <td>2020-01-01 21:00:00+00:00</td>\n",
       "    </tr>\n",
       "    <tr>\n",
       "      <th>22</th>\n",
       "      <td>22</td>\n",
       "      <td>2020-01-01 22:00:00+00:00</td>\n",
       "    </tr>\n",
       "    <tr>\n",
       "      <th>23</th>\n",
       "      <td>23</td>\n",
       "      <td>2020-01-01 23:00:00+00:00</td>\n",
       "    </tr>\n",
       "    <tr>\n",
       "      <th>24</th>\n",
       "      <td>24</td>\n",
       "      <td>2020-01-02 00:00:00+00:00</td>\n",
       "    </tr>\n",
       "    <tr>\n",
       "      <th>25</th>\n",
       "      <td>25</td>\n",
       "      <td>2020-01-02 01:00:00+00:00</td>\n",
       "    </tr>\n",
       "    <tr>\n",
       "      <th>26</th>\n",
       "      <td>26</td>\n",
       "      <td>2020-01-02 02:00:00+00:00</td>\n",
       "    </tr>\n",
       "    <tr>\n",
       "      <th>27</th>\n",
       "      <td>27</td>\n",
       "      <td>2020-01-02 03:00:00+00:00</td>\n",
       "    </tr>\n",
       "    <tr>\n",
       "      <th>28</th>\n",
       "      <td>28</td>\n",
       "      <td>2020-01-02 04:00:00+00:00</td>\n",
       "    </tr>\n",
       "    <tr>\n",
       "      <th>29</th>\n",
       "      <td>29</td>\n",
       "      <td>2020-01-02 05:00:00+00:00</td>\n",
       "    </tr>\n",
       "    <tr>\n",
       "      <th>30</th>\n",
       "      <td>30</td>\n",
       "      <td>2020-01-02 06:00:00+00:00</td>\n",
       "    </tr>\n",
       "    <tr>\n",
       "      <th>31</th>\n",
       "      <td>31</td>\n",
       "      <td>2020-01-02 07:00:00+00:00</td>\n",
       "    </tr>\n",
       "    <tr>\n",
       "      <th>32</th>\n",
       "      <td>32</td>\n",
       "      <td>2020-01-02 08:00:00+00:00</td>\n",
       "    </tr>\n",
       "    <tr>\n",
       "      <th>33</th>\n",
       "      <td>33</td>\n",
       "      <td>2020-01-02 09:00:00+00:00</td>\n",
       "    </tr>\n",
       "    <tr>\n",
       "      <th>34</th>\n",
       "      <td>34</td>\n",
       "      <td>2020-01-02 10:00:00+00:00</td>\n",
       "    </tr>\n",
       "    <tr>\n",
       "      <th>35</th>\n",
       "      <td>35</td>\n",
       "      <td>2020-01-02 11:00:00+00:00</td>\n",
       "    </tr>\n",
       "    <tr>\n",
       "      <th>36</th>\n",
       "      <td>36</td>\n",
       "      <td>2020-01-02 12:00:00+00:00</td>\n",
       "    </tr>\n",
       "    <tr>\n",
       "      <th>37</th>\n",
       "      <td>37</td>\n",
       "      <td>2020-01-02 13:00:00+00:00</td>\n",
       "    </tr>\n",
       "    <tr>\n",
       "      <th>38</th>\n",
       "      <td>38</td>\n",
       "      <td>2020-01-02 14:00:00+00:00</td>\n",
       "    </tr>\n",
       "    <tr>\n",
       "      <th>39</th>\n",
       "      <td>39</td>\n",
       "      <td>2020-01-02 15:00:00+00:00</td>\n",
       "    </tr>\n",
       "    <tr>\n",
       "      <th>40</th>\n",
       "      <td>40</td>\n",
       "      <td>2020-01-02 16:00:00+00:00</td>\n",
       "    </tr>\n",
       "    <tr>\n",
       "      <th>41</th>\n",
       "      <td>41</td>\n",
       "      <td>2020-01-02 17:00:00+00:00</td>\n",
       "    </tr>\n",
       "    <tr>\n",
       "      <th>42</th>\n",
       "      <td>42</td>\n",
       "      <td>2020-01-02 18:00:00+00:00</td>\n",
       "    </tr>\n",
       "    <tr>\n",
       "      <th>43</th>\n",
       "      <td>43</td>\n",
       "      <td>2020-01-02 19:00:00+00:00</td>\n",
       "    </tr>\n",
       "    <tr>\n",
       "      <th>44</th>\n",
       "      <td>44</td>\n",
       "      <td>2020-01-02 20:00:00+00:00</td>\n",
       "    </tr>\n",
       "    <tr>\n",
       "      <th>45</th>\n",
       "      <td>45</td>\n",
       "      <td>2020-01-02 21:00:00+00:00</td>\n",
       "    </tr>\n",
       "    <tr>\n",
       "      <th>46</th>\n",
       "      <td>46</td>\n",
       "      <td>2020-01-02 22:00:00+00:00</td>\n",
       "    </tr>\n",
       "    <tr>\n",
       "      <th>47</th>\n",
       "      <td>47</td>\n",
       "      <td>2020-01-02 23:00:00+00:00</td>\n",
       "    </tr>\n",
       "  </tbody>\n",
       "</table>\n",
       "</div>"
      ],
      "text/plain": [
       "    index                      time\n",
       "0       0 2020-01-01 00:00:00+00:00\n",
       "1       1 2020-01-01 01:00:00+00:00\n",
       "2       2 2020-01-01 02:00:00+00:00\n",
       "3       3 2020-01-01 03:00:00+00:00\n",
       "4       4 2020-01-01 04:00:00+00:00\n",
       "5       5 2020-01-01 05:00:00+00:00\n",
       "6       6 2020-01-01 06:00:00+00:00\n",
       "7       7 2020-01-01 07:00:00+00:00\n",
       "8       8 2020-01-01 08:00:00+00:00\n",
       "9       9 2020-01-01 09:00:00+00:00\n",
       "10     10 2020-01-01 10:00:00+00:00\n",
       "11     11 2020-01-01 11:00:00+00:00\n",
       "12     12 2020-01-01 12:00:00+00:00\n",
       "13     13 2020-01-01 13:00:00+00:00\n",
       "14     14 2020-01-01 14:00:00+00:00\n",
       "15     15 2020-01-01 15:00:00+00:00\n",
       "16     16 2020-01-01 16:00:00+00:00\n",
       "17     17 2020-01-01 17:00:00+00:00\n",
       "18     18 2020-01-01 18:00:00+00:00\n",
       "19     19 2020-01-01 19:00:00+00:00\n",
       "20     20 2020-01-01 20:00:00+00:00\n",
       "21     21 2020-01-01 21:00:00+00:00\n",
       "22     22 2020-01-01 22:00:00+00:00\n",
       "23     23 2020-01-01 23:00:00+00:00\n",
       "24     24 2020-01-02 00:00:00+00:00\n",
       "25     25 2020-01-02 01:00:00+00:00\n",
       "26     26 2020-01-02 02:00:00+00:00\n",
       "27     27 2020-01-02 03:00:00+00:00\n",
       "28     28 2020-01-02 04:00:00+00:00\n",
       "29     29 2020-01-02 05:00:00+00:00\n",
       "30     30 2020-01-02 06:00:00+00:00\n",
       "31     31 2020-01-02 07:00:00+00:00\n",
       "32     32 2020-01-02 08:00:00+00:00\n",
       "33     33 2020-01-02 09:00:00+00:00\n",
       "34     34 2020-01-02 10:00:00+00:00\n",
       "35     35 2020-01-02 11:00:00+00:00\n",
       "36     36 2020-01-02 12:00:00+00:00\n",
       "37     37 2020-01-02 13:00:00+00:00\n",
       "38     38 2020-01-02 14:00:00+00:00\n",
       "39     39 2020-01-02 15:00:00+00:00\n",
       "40     40 2020-01-02 16:00:00+00:00\n",
       "41     41 2020-01-02 17:00:00+00:00\n",
       "42     42 2020-01-02 18:00:00+00:00\n",
       "43     43 2020-01-02 19:00:00+00:00\n",
       "44     44 2020-01-02 20:00:00+00:00\n",
       "45     45 2020-01-02 21:00:00+00:00\n",
       "46     46 2020-01-02 22:00:00+00:00\n",
       "47     47 2020-01-02 23:00:00+00:00"
      ]
     },
     "execution_count": 32,
     "metadata": {},
     "output_type": "execute_result"
    }
   ],
   "source": []
  },
  {
   "cell_type": "code",
   "execution_count": null,
   "metadata": {},
   "outputs": [],
   "source": []
  }
 ],
 "metadata": {
  "interpreter": {
   "hash": "9eb29a7076c7276605e5eb8d51f245f43dbf04c428619f9ae82a0981fd35b6e6"
  },
  "kernelspec": {
   "display_name": "Python 3.7.10 64-bit ('datadriven': conda)",
   "name": "python3"
  },
  "language_info": {
   "codemirror_mode": {
    "name": "ipython",
    "version": 3
   },
   "file_extension": ".py",
   "mimetype": "text/x-python",
   "name": "python",
   "nbconvert_exporter": "python",
   "pygments_lexer": "ipython3",
   "version": "3.7.10"
  },
  "metadata": {
   "interpreter": {
    "hash": "9eb29a7076c7276605e5eb8d51f245f43dbf04c428619f9ae82a0981fd35b6e6"
   }
  },
  "orig_nbformat": 2
 },
 "nbformat": 4,
 "nbformat_minor": 2
}
