{
 "cells": [
  {
   "cell_type": "markdown",
   "metadata": {},
   "source": [
    "# Fetching observations from MET data base services\n",
    "\n",
    "This notebook serves as sandbox for fetching data from frost.met, havvarsel-frost.met and thredds.met\n",
    "\n",
    "See https://api.met.no/ for all interfaces and possible sources!!\n",
    "\n",
    "\n",
    "## Havvarsel frost\n",
    "Havvarsel frost delivers so far `temperature` measurements originated from badevann.no at seven beaches in the south of Norway (glider data integrated in the meantime, but not yet used here!). \n",
    "> Documentation:\n",
    "> - API documentation for obs/badevann https://havvarsel-frost.met.no/docs/apiref#/obs%2Fbadevann/obsBadevannGet \n",
    "> - Datastructure described on https://havvarsel-frost.met.no/docs/dataset_badevann\n",
    "\n",
    "\n"
   ]
  },
  {
   "cell_type": "code",
   "execution_count": 1,
   "metadata": {},
   "outputs": [],
   "source": [
    "# Importing general libraries\n",
    "import sys\n",
    "import json\n",
    "import datetime\n",
    "import requests\n",
    "\n",
    "import numpy as np\n",
    "import pandas as pd\n",
    "import matplotlib.pyplot as plt\n"
   ]
  },
  {
   "cell_type": "markdown",
   "metadata": {},
   "source": [
    "### Example to fetch time series"
   ]
  },
  {
   "cell_type": "code",
   "execution_count": 2,
   "metadata": {},
   "outputs": [],
   "source": [
    "start_time = datetime.datetime.strptime(\"2021-10-01T00:00\", \"%Y-%m-%dT%H:%M\")\n",
    "end_time = datetime.datetime.strptime(\"2021-11-01T00:00\", \"%Y-%m-%dT%H:%M\")\n"
   ]
  },
  {
   "cell_type": "code",
   "execution_count": 3,
   "metadata": {},
   "outputs": [],
   "source": [
    "frost_api_base=\"https://havvarsel-frost.met.no\"\n",
    "endpoint = frost_api_base + \"/api/v1/obs/badevann/get\"\n",
    "\n",
    "payload = {'time': str(start_time.isoformat()) + \"Z/\" + str(end_time.isoformat()) + \"Z\", \n",
    "                    'incobs':'true', 'buoyids': 100, 'parameter':'temperature'}\n",
    "# the havvarsel-frost API uses colon in the url and does not replace them with ASCI what is default\n",
    "payload_str = \"&\".join(\"%s=%s\" % (k,v) for k,v in payload.items())"
   ]
  },
  {
   "cell_type": "code",
   "execution_count": 4,
   "metadata": {},
   "outputs": [
    {
     "name": "stdout",
     "output_type": "stream",
     "text": [
      "Trying https://havvarsel-frost.met.no/api/v1/obs/badevann/get?time=2021-10-01T00:00:00Z/2021-11-01T00:00:00Z&incobs=true&buoyids=100&parameter=temperature\n"
     ]
    }
   ],
   "source": [
    "try:\n",
    "    r = requests.get(endpoint, params=payload_str)\n",
    "    print(\"Trying \" + r.url)\n",
    "    r.raise_for_status()\n",
    "except requests.exceptions.HTTPError as err:\n",
    "    raise Exception(err)\n"
   ]
  },
  {
   "cell_type": "markdown",
   "metadata": {},
   "source": [
    "### Explore available data"
   ]
  },
  {
   "cell_type": "code",
   "execution_count": 5,
   "metadata": {},
   "outputs": [],
   "source": [
    "badevann_df = pd.DataFrame(columns=['buoyid', 'name', 'lat', 'lon'])\n",
    "\n",
    "for id in range(150):\n",
    "    try:\n",
    "        payload = {'time': str(start_time.isoformat()) + \"Z/\" + str(end_time.isoformat()) + \"Z\", \n",
    "                    'incobs':'true', 'buoyids': id}\n",
    "        payload_str = \"&\".join(\"%s=%s\" % (k,v) for k,v in payload.items())\n",
    "        r = requests.get(endpoint, params=payload_str)\n",
    "        \n",
    "        name = r.json()[\"data\"][\"tseries\"][0][\"header\"][\"extra\"][\"name\"]\n",
    "        lat = r.json()[\"data\"][\"tseries\"][0][\"header\"][\"extra\"][\"pos\"][\"lat\"]\n",
    "        lon = r.json()[\"data\"][\"tseries\"][0][\"header\"][\"extra\"][\"pos\"][\"lon\"]\n",
    "        badevann_df = badevann_df.append({\"buoyid\" : id, \"name\" : name, \"lat\" : lat, \"lon\" : lon}, ignore_index=True)\n",
    "    except:\n",
    "        pass"
   ]
  },
  {
   "cell_type": "code",
   "execution_count": 6,
   "metadata": {},
   "outputs": [
    {
     "data": {
      "text/html": [
       "<div>\n",
       "<style scoped>\n",
       "    .dataframe tbody tr th:only-of-type {\n",
       "        vertical-align: middle;\n",
       "    }\n",
       "\n",
       "    .dataframe tbody tr th {\n",
       "        vertical-align: top;\n",
       "    }\n",
       "\n",
       "    .dataframe thead th {\n",
       "        text-align: right;\n",
       "    }\n",
       "</style>\n",
       "<table border=\"1\" class=\"dataframe\">\n",
       "  <thead>\n",
       "    <tr style=\"text-align: right;\">\n",
       "      <th></th>\n",
       "      <th>buoyid</th>\n",
       "      <th>name</th>\n",
       "      <th>lat</th>\n",
       "      <th>lon</th>\n",
       "    </tr>\n",
       "  </thead>\n",
       "  <tbody>\n",
       "    <tr>\n",
       "      <th>0</th>\n",
       "      <td>5</td>\n",
       "      <td>Aksdalsvatnet</td>\n",
       "      <td>59.416750</td>\n",
       "      <td>5.418333</td>\n",
       "    </tr>\n",
       "    <tr>\n",
       "      <th>1</th>\n",
       "      <td>7</td>\n",
       "      <td>Grønnavigå</td>\n",
       "      <td>58.988380</td>\n",
       "      <td>5.739830</td>\n",
       "    </tr>\n",
       "    <tr>\n",
       "      <th>2</th>\n",
       "      <td>10</td>\n",
       "      <td>Sjøbadet</td>\n",
       "      <td>63.435770</td>\n",
       "      <td>10.390610</td>\n",
       "    </tr>\n",
       "    <tr>\n",
       "      <th>3</th>\n",
       "      <td>11</td>\n",
       "      <td>Munkholmen</td>\n",
       "      <td>63.451380</td>\n",
       "      <td>10.384790</td>\n",
       "    </tr>\n",
       "    <tr>\n",
       "      <th>4</th>\n",
       "      <td>13</td>\n",
       "      <td>Vaulen</td>\n",
       "      <td>58.926347</td>\n",
       "      <td>5.750357</td>\n",
       "    </tr>\n",
       "    <tr>\n",
       "      <th>...</th>\n",
       "      <td>...</td>\n",
       "      <td>...</td>\n",
       "      <td>...</td>\n",
       "      <td>...</td>\n",
       "    </tr>\n",
       "    <tr>\n",
       "      <th>64</th>\n",
       "      <td>128</td>\n",
       "      <td>Volsdalsberga</td>\n",
       "      <td>62.467929</td>\n",
       "      <td>6.198442</td>\n",
       "    </tr>\n",
       "    <tr>\n",
       "      <th>65</th>\n",
       "      <td>129</td>\n",
       "      <td>Sandnessjøen havsbad</td>\n",
       "      <td>65.989325</td>\n",
       "      <td>12.623672</td>\n",
       "    </tr>\n",
       "    <tr>\n",
       "      <th>66</th>\n",
       "      <td>130</td>\n",
       "      <td>Mosvatnet</td>\n",
       "      <td>59.420210</td>\n",
       "      <td>6.447400</td>\n",
       "    </tr>\n",
       "    <tr>\n",
       "      <th>67</th>\n",
       "      <td>131</td>\n",
       "      <td>Våge</td>\n",
       "      <td>60.044350</td>\n",
       "      <td>5.524630</td>\n",
       "    </tr>\n",
       "    <tr>\n",
       "      <th>68</th>\n",
       "      <td>133</td>\n",
       "      <td>Fåholmen badeplass</td>\n",
       "      <td>59.165627</td>\n",
       "      <td>5.878336</td>\n",
       "    </tr>\n",
       "  </tbody>\n",
       "</table>\n",
       "<p>69 rows × 4 columns</p>\n",
       "</div>"
      ],
      "text/plain": [
       "   buoyid                  name        lat        lon\n",
       "0       5         Aksdalsvatnet  59.416750   5.418333\n",
       "1       7            Grønnavigå  58.988380   5.739830\n",
       "2      10              Sjøbadet  63.435770  10.390610\n",
       "3      11            Munkholmen  63.451380  10.384790\n",
       "4      13                Vaulen  58.926347   5.750357\n",
       "..    ...                   ...        ...        ...\n",
       "64    128         Volsdalsberga  62.467929   6.198442\n",
       "65    129  Sandnessjøen havsbad  65.989325  12.623672\n",
       "66    130             Mosvatnet  59.420210   6.447400\n",
       "67    131                  Våge  60.044350   5.524630\n",
       "68    133    Fåholmen badeplass  59.165627   5.878336\n",
       "\n",
       "[69 rows x 4 columns]"
      ]
     },
     "execution_count": 6,
     "metadata": {},
     "output_type": "execute_result"
    }
   ],
   "source": [
    "badevann_df"
   ]
  },
  {
   "cell_type": "code",
   "execution_count": 7,
   "metadata": {},
   "outputs": [],
   "source": [
    "badevann_df.to_csv(\"badevann-buoys.csv\", sep=\" \", index=False)"
   ]
  },
  {
   "cell_type": "code",
   "execution_count": 8,
   "metadata": {},
   "outputs": [],
   "source": [
    "import geopandas as gpd\n",
    "world = gpd.read_file(gpd.datasets.get_path('naturalearth_lowres'))\n",
    "norway = world[world[\"name\"]==\"Norway\"]"
   ]
  },
  {
   "cell_type": "code",
   "execution_count": 14,
   "metadata": {},
   "outputs": [
    {
     "data": {
      "image/png": "[encoded data removed]",
      "text/plain": [
       "<Figure size 720x1080 with 1 Axes>"
      ]
     },
     "metadata": {
      "needs_background": "light"
     },
     "output_type": "display_data"
    }
   ],
   "source": [
    "lon = np.array(badevann_df[\"lon\"],dtype=float)\n",
    "lat = np.array(badevann_df[\"lat\"],dtype=float)\n",
    "buoyid = np.array(badevann_df[\"buoyid\"],dtype=int)\n",
    "\n",
    "fig, ax = plt.subplots(1,1,figsize=(10,15))\n",
    "bg = norway.plot(ax=ax)\n",
    "ax.set_ylim((57,72))\n",
    "\n",
    "ax.scatter(np.array(badevann_df[\"lon\"],dtype=float), np.array(badevann_df[\"lat\"],dtype=float), c=\"red\", marker=\"x\")\n",
    "for i, txt in enumerate(buoyid):\n",
    "    ax.annotate(str(txt), (lon[i], lat[i]))"
   ]
  },
  {
   "cell_type": "code",
   "execution_count": null,
   "metadata": {},
   "outputs": [],
   "source": []
  }
 ],
 "metadata": {
  "interpreter": {
   "hash": "9eb29a7076c7276605e5eb8d51f245f43dbf04c428619f9ae82a0981fd35b6e6"
  },
  "kernelspec": {
   "display_name": "Python 3.7.10 64-bit ('datadriven': conda)",
   "name": "python3"
  },
  "language_info": {
   "codemirror_mode": {
    "name": "ipython",
    "version": 3
   },
   "file_extension": ".py",
   "mimetype": "text/x-python",
   "name": "python",
   "nbconvert_exporter": "python",
   "pygments_lexer": "ipython3",
   "version": "3.7.10"
  },
  "metadata": {
   "interpreter": {
    "hash": "9eb29a7076c7276605e5eb8d51f245f43dbf04c428619f9ae82a0981fd35b6e6"
   }
  },
  "orig_nbformat": 2
 },
 "nbformat": 4,
 "nbformat_minor": 2
}
