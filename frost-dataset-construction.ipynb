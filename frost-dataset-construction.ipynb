{
 "metadata": {
  "language_info": {
   "codemirror_mode": {
    "name": "ipython",
    "version": 3
   },
   "file_extension": ".py",
   "mimetype": "text/x-python",
   "name": "python",
   "nbconvert_exporter": "python",
   "pygments_lexer": "ipython3",
   "version": "3.7.10-final"
  },
  "orig_nbformat": 2,
  "kernelspec": {
   "name": "python3710jvsc74a57bd09eb29a7076c7276605e5eb8d51f245f43dbf04c428619f9ae82a0981fd35b6e6",
   "display_name": "Python 3.7.10 64-bit ('datadriven': conda)"
  },
  "metadata": {
   "interpreter": {
    "hash": "9eb29a7076c7276605e5eb8d51f245f43dbf04c428619f9ae82a0981fd35b6e6"
   }
  }
 },
 "nbformat": 4,
 "nbformat_minor": 2,
 "cells": [
  {
   "source": [
    "# Fetching observations from Havvarsel Frost (havvarsel-frost.met.no) and Frost (frost.met.no) \n",
    "\n",
    "This notebook constructs a dataset containing oceanographic observations from havvarsel frost accomplished with neighboring atmospheric observations from frost\n",
    "\n",
    "Havvarsel frost serves so far `temperature` measurements originated from badevann.no at seven beaches in the south of Norway. \n",
    "> Documentation:\n",
    "> API documentation for obs/badevann http://havvarsel-frost.met.no/docs/apiref#/obs%2Fbadevann/obsBadevannGet \n",
    "> Datastructure described on http://havvarsel-frost.met.no/docs/dataset_badevann\n",
    "\n",
    "From the frost server we retrieve observations from the `n` closest weather observation stations and include the values \n",
    "- `air_temperature`\n",
    "TODO: \n",
    "- `wind_speed`\n",
    "- `relative_humidity`\n",
    "- `cloud_area_fraction` (which takes values from 0 = no clouds to 8 = fully clouded) \n",
    "- `sum(duration_of_sunshinePT1H)`\n",
    "- `mean(surface_downwelling_shortwave_flux_in_air PT1H)`\n",
    "- ...\n",
    "\n",
    "> Documentation:\n",
    "> API documentation for observations on https://frost.met.no/api.html#!/observations/observations \n",
    "> Available elements (params) are listed on https://frost.met.no/elementtable \n",
    "> Examples on Frost data manipulation with Python on https://frost.met.no/python_example.html\n",
    ">\n",
    "> See also:\n",
    "> Complete documentation at https://frost.met.no/howto.html \n",
    "> Complete API reference at https://frost.met.no/api.html \n",
    "\n",
    "\n",
    "TODO:\n",
    " - Tune processing and storing of observational data sets (to suite whatever code that will use the data sets)\n",
    " - Prototype simple linear regression\n",
    " - Prototype simple ANN (with Tensorflow and Keras?)\n",
    " - ...\n",
    "\"\"\""
   ],
   "cell_type": "markdown",
   "metadata": {}
  },
  {
   "cell_type": "code",
   "execution_count": null,
   "metadata": {},
   "outputs": [],
   "source": [
    "# Importing general libraries\n",
    "import sys\n",
    "import json\n",
    "import datetime\n",
    "import requests\n",
    "from traceback import format_exc\n",
    "import pandas as pd\n",
    "import matplotlib.pyplot as plt\n",
    "import numpy \n",
    "\n",
    "# Importing user defined functionalities\n",
    "import FrostImporter\n"
   ]
  },
  {
   "source": [
    "## Data from Havvarsel-Frost\n",
    "\n",
    "The dataset construction relies on the selection of an observation site from the badevann dataset (`id` = 0....6, see badevann.no for further information) and the selection of a time range with `start_time` and `end_time`"
   ],
   "cell_type": "markdown",
   "metadata": {}
  },
  {
   "cell_type": "code",
   "execution_count": null,
   "metadata": {},
   "outputs": [],
   "source": [
    "# Inputs\n",
    "station_id     = \"5\"\n",
    "\n",
    "start_time     = \"2019-01-01T00:00\"\n",
    "end_time       = \"2019-12-31T23:59\"\n",
    "\n",
    "FrostImporter = FrostImporter.FrostImporter(start_time=start_time, end_time=end_time)\n",
    "\n"
   ]
  },
  {
   "cell_type": "code",
   "execution_count": null,
   "metadata": {},
   "outputs": [],
   "source": [
    "# Fetching data\n",
    "location, data = FrostImporter.havvarsel_frost(station_id)\n"
   ]
  },
  {
   "source": [
    "## Data from Frost\n",
    "\n",
    "The frost server requires a client-id which everyone can create for himself on https://frost.met.no/auth/requestCredentials.html\n"
   ],
   "cell_type": "markdown",
   "metadata": {}
  },
  {
   "cell_type": "code",
   "execution_count": null,
   "metadata": {},
   "outputs": [],
   "source": [
    "# Authentifiction id \n",
    "client_id = '3cf0c17c-9209-4504-910c-176366ad78ba' # for florian.beiser@sintef.no\n"
   ]
  },
  {
   "source": [
    "### Identify relevant observation locations in Frost\n",
    "\n",
    "As preparation for the actual timeseries extract, we have to identify the `station_id`s of those locations where measurements in frost are available\n"
   ],
   "cell_type": "markdown",
   "metadata": {}
  },
  {
   "cell_type": "code",
   "execution_count": null,
   "metadata": {},
   "outputs": [],
   "source": [
    "# Retrieving closest station ids \n",
    "station_ids = FrostImporter.frost_location_ids(location, 5, client_id)"
   ]
  },
  {
   "source": [
    "### Example\n",
    "\n",
    "In the following, we show an example how data from frost can be added to the existing dataset"
   ],
   "cell_type": "markdown",
   "metadata": {}
  },
  {
   "cell_type": "code",
   "execution_count": null,
   "metadata": {},
   "outputs": [],
   "source": [
    "# Load temperature\n",
    "param = \"air_temperature\"\n",
    "\n",
    "timeseries = FrostImporter.frost(station_ids[0],param)\n",
    "\n",
    "# Select suitable times from the timeseries and add it to data\n",
    "data4plot = FrostImporter.postprocess_frost(timeseries, \"air_temp\", data)\n",
    "print(data4plot.head())\n",
    "\n",
    "# save to csv\n",
    "data4plot.to_csv(\"dataset.csv\")\n",
    "\n",
    "#plot\n",
    "plt.plot(data4plot[\"water_temp\"], label=\"water\")\n",
    "plt.plot(data4plot[\"air_temp0\"], label=\"air\")\n",
    "plt.title(\"Temperature Timeseries\")\n",
    "plt.legend(loc=\"upper right\")\n",
    "plt.plot()\n"
   ]
  },
  {
   "source": [
    "### Timeseries from Frost\n",
    "\n",
    "Lastly, we download the timeseries for all selected stations and all selected parameter\n",
    "\n",
    "WARNING: Not tested since it runs too long"
   ],
   "cell_type": "markdown",
   "metadata": {}
  },
  {
   "cell_type": "code",
   "execution_count": null,
   "metadata": {},
   "outputs": [],
   "source": [
    "params = [\"air_temperature\", \"wind_speed\", \"relative_humidity\"]\n",
    "\n",
    "# Adding measurement for all station_ids and all params to the dataset (as above)\n",
    "for id in station_ids:\n",
    "    for param in params:\n",
    "        timeseries = FrostImporter.frost(id, param)\n",
    "        data = FrostImporter.postprocess_frost(timeseries, id+param, data)\n",
    "\n",
    "\n"
   ]
  },
  {
   "cell_type": "code",
   "execution_count": null,
   "metadata": {},
   "outputs": [],
   "source": [
    "data"
   ]
  }
 ]
}