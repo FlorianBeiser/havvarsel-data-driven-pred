{
 "cells": [
  {
   "cell_type": "markdown",
   "metadata": {},
   "source": [
    "# Data Analysis for Data-Driven Water Temperature Prediction \n",
    "\n",
    "- Analysing the dataset created by run_example.sh\n",
    "- Modelling statistical predictions"
   ]
  },
  {
   "cell_type": "code",
   "execution_count": null,
   "metadata": {},
   "outputs": [],
   "source": [
    "import pandas as pd \n",
    "import datetime\n",
    "import numpy as np\n",
    "\n",
    "import matplotlib.pyplot as plt\n",
    "\n",
    "import matplotlib.dates as mdates\n",
    "mydates = mdates.DateFormatter('%m-%d')"
   ]
  },
  {
   "cell_type": "markdown",
   "metadata": {},
   "source": [
    "## Reading and Preprocessing data set "
   ]
  },
  {
   "cell_type": "code",
   "execution_count": null,
   "metadata": {},
   "outputs": [],
   "source": [
    "# Read the example data\n",
    "data = pd.read_csv(\"havvarsel-data-driven-pred-data/dataset_4.csv\")\n",
    "N = len(data)\n",
    "\n",
    "data[\"time\"] = pd.to_datetime(data[\"time\"])\n",
    "data = data.set_index(\"time\")\n",
    "\n",
    "years = list(dict.fromkeys(list(data.index.year)))"
   ]
  },
  {
   "cell_type": "code",
   "execution_count": null,
   "metadata": {},
   "outputs": [],
   "source": [
    "# NOTE: Some columns contain only integer values\n",
    "\n",
    "# Casting to all entries to floats\n",
    "for column in data.columns:\n",
    "    if data[column].dtype != \"float64\":\n",
    "        data[column] = data[column].astype(float)"
   ]
  },
  {
   "cell_type": "code",
   "execution_count": null,
   "metadata": {},
   "outputs": [],
   "source": [
    "add_prev_features = True\n",
    "\n",
    "for feature in data.columns:\n",
    "    if feature != \"water_temp\":\n",
    "        for hour in range(1,3):\n",
    "            data[feature+\"_\"+str(hour)+\"h_ago\"] = data[feature].shift(hour)"
   ]
  },
  {
   "cell_type": "code",
   "execution_count": null,
   "metadata": {},
   "outputs": [],
   "source": [
    "add_prev_temp = False\n",
    "\n",
    "if add_prev_temp:\n",
    "    # Adding the previous water_temp as additonal trainings covariate\n",
    "    data[\"LASTwater_temp\"] = data[\"water_temp\"].shift(1)\n",
    "    data = data.iloc[1:, :]"
   ]
  },
  {
   "cell_type": "code",
   "execution_count": null,
   "metadata": {},
   "outputs": [],
   "source": [
    "# NOTE: Some of the libraries require special attention if the data contains NaNs\n",
    "ignore_nan = False\n",
    "\n",
    "if ignore_nan:\n",
    "    # Check the dataset for sanity \n",
    "    # i.e. remove columns with only NaN\n",
    "    for column in data.columns:\n",
    "        if data[column].isnull().values.any():\n",
    "            print(\"Column\", column, \"gets removed since it contains NaN entries\")\n",
    "            del data[column]"
   ]
  },
  {
   "cell_type": "code",
   "execution_count": null,
   "metadata": {},
   "outputs": [],
   "source": [
    "# TEMP!!! \n",
    "# Offset since last year empty\n",
    "\n",
    "# Split in train and test data\n",
    "# where the full last year becomes the test set \n",
    "start_train = datetime.datetime.strptime(str(years[0])+\"-01-01T00:00 +0000\", \"%Y-%m-%dT%H:%M %z\")\n",
    "end_train = datetime.datetime.strptime(str(years[-1]-2)+\"-12-31T23:59 +0000\", \"%Y-%m-%dT%H:%M %z\")\n",
    "train = data[start_train : end_train]\n",
    "\n",
    "start_test = datetime.datetime.strptime(str(years[-1]-1)+\"-01-01T00:00 +0000\", \"%Y-%m-%dT%H:%M %z\")\n",
    "end_test = datetime.datetime.strptime(str(years[-1]-1)+\"-12-31T23:59 +0000\", \"%Y-%m-%dT%H:%M %z\")\n",
    "test = data[start_test : end_test]"
   ]
  },
  {
   "cell_type": "markdown",
   "metadata": {},
   "source": [
    "## Data Analysis\n",
    "\n",
    "Learning a data-driven predictor"
   ]
  },
  {
   "cell_type": "code",
   "execution_count": null,
   "metadata": {},
   "outputs": [],
   "source": [
    "def plot_test_vs_truth(prediction, dropna=True):\n",
    "    \"\"\"Plotting timeseries of the prediciton against the truth\"\"\"\n",
    "    fig, axs = plt.subplots(1,2)\n",
    "    fig.set_figheight(6)\n",
    "    fig.set_figwidth(12)\n",
    "    # Time series plot\n",
    "    if dropna:\n",
    "        axs[0].plot(test[\"water_temp\"].dropna().index, test[\"water_temp\"][test[\"water_temp\"].dropna().index])\n",
    "        axs[0].plot(test[\"water_temp\"].dropna().index, prediction.loc[test[\"water_temp\"].dropna().index])\n",
    "    else:\n",
    "        axs[0].plot(clean_test[\"water_temp\"].index, clean_test[\"water_temp\"])\n",
    "        axs[0].plot(clean_test[\"water_temp\"].index, prediction)\n",
    "\n",
    "\n",
    "    axs[0].legend([\"truth\",\"prediction\"])\n",
    "    axs[0].set_xlabel(\"date\")\n",
    "    axs[0].set_ylabel(\"water_temp [degC]\")\n",
    "    axs[0].set_title(\"True time series vs predicted on test set\")\n",
    "    axs[0].tick_params(axis='x', rotation=45)\n",
    "\n",
    "    # Bias plot\n",
    "    if dropna:\n",
    "        axs[1].plot(prediction, test[\"water_temp\"], \"+\")\n",
    "    else:\n",
    "        axs[1].plot(prediction, clean_test[\"water_temp\"], \"+\")\n",
    "    axs[1].plot(np.linspace(8,24), np.linspace(8,24))\n",
    "\n",
    "    axs[1].set_xlabel(\"predicted water_temp [degC]\")\n",
    "    axs[1].set_ylabel(\"true water_temp [degC]\")\n",
    "    axs[1].set_title(\"Predicted test vs true test\")    \n"
   ]
  },
  {
   "cell_type": "markdown",
   "metadata": {},
   "source": [
    "### Naive Prediction\n",
    "\n",
    "The naive prediction assumes that the `water_temp` does not change"
   ]
  },
  {
   "cell_type": "code",
   "execution_count": null,
   "metadata": {},
   "outputs": [],
   "source": [
    "prediction = test[\"water_temp\"].shift(1) "
   ]
  },
  {
   "cell_type": "code",
   "execution_count": null,
   "metadata": {},
   "outputs": [],
   "source": [
    "plot_test_vs_truth(prediction)\n"
   ]
  },
  {
   "cell_type": "markdown",
   "metadata": {},
   "source": [
    "### NorKyst800 Prediction\n",
    "\n",
    "Relying on NorKyst800 Forecast without further data analysis\n"
   ]
  },
  {
   "cell_type": "code",
   "execution_count": null,
   "metadata": {},
   "outputs": [],
   "source": [
    "prediction = test[\"norkyst_water_temp0\"]"
   ]
  },
  {
   "cell_type": "code",
   "execution_count": null,
   "metadata": {},
   "outputs": [],
   "source": [
    "plot_test_vs_truth(prediction)"
   ]
  },
  {
   "cell_type": "markdown",
   "metadata": {},
   "source": [
    "### Regressoion-Type Algorithms\n",
    "\n",
    "The atmospheric observations at time $t$, the NorKyst800 forecast for time $t$ and the `water_temp` at time $t-1$ are used as covariates in order to model the `water_temp` at time $t$ as response.\n",
    "\n",
    "NOTE: \n",
    "- the increments between times is different! An additional time difference variable could be useful, but does not make sense additive linear factor (as multiplicative factor maybe more suited - DISCUSS)\n",
    "- in further work, we aim for atmospheric observations at time $t-1$ and forecasted atmospheric elements at time $t$"
   ]
  },
  {
   "cell_type": "code",
   "execution_count": null,
   "metadata": {},
   "outputs": [],
   "source": [
    "clean_data = data.dropna()\n",
    "clean_train = clean_data[start_train : end_train]\n",
    "clean_test  = clean_data[start_test  : end_test ]"
   ]
  },
  {
   "cell_type": "code",
   "execution_count": null,
   "metadata": {},
   "outputs": [],
   "source": [
    "# Covariates and response\n",
    "X = clean_train.loc[:, data.columns!=\"water_temp\"]\n",
    "Y = clean_train[\"water_temp\"]"
   ]
  },
  {
   "cell_type": "markdown",
   "metadata": {},
   "source": [
    "#### Linear Regression\n"
   ]
  },
  {
   "cell_type": "code",
   "execution_count": null,
   "metadata": {},
   "outputs": [],
   "source": [
    "from sklearn.linear_model import LinearRegression\n",
    "\n",
    "# Train linear regression model\n",
    "linreg = LinearRegression()\n",
    "linreg.fit(X,Y)"
   ]
  },
  {
   "cell_type": "code",
   "execution_count": null,
   "metadata": {},
   "outputs": [],
   "source": [
    "# Test model\n",
    "prediction_labels = linreg.predict(clean_test.loc[:, data.columns!=\"water_temp\"])\n",
    "prediction = pd.DataFrame(prediction_labels)\n",
    "prediction[\"time\"] = clean_test.index\n",
    "prediction = prediction.set_index(\"time\")"
   ]
  },
  {
   "cell_type": "code",
   "execution_count": null,
   "metadata": {},
   "outputs": [],
   "source": [
    "plot_test_vs_truth(prediction, dropna=False)"
   ]
  },
  {
   "cell_type": "markdown",
   "metadata": {},
   "source": [
    "#### Linear Regression with Autoregressive Error "
   ]
  },
  {
   "cell_type": "markdown",
   "metadata": {},
   "source": [
    "Inspecting auto correlation in the dataset (ignoring that there may are temporal gaps)"
   ]
  },
  {
   "cell_type": "code",
   "execution_count": null,
   "metadata": {},
   "outputs": [],
   "source": [
    "from statsmodels.graphics.tsaplots import plot_pacf\n",
    "\n",
    "pacf = plot_pacf(clean_data[\"water_temp\"])"
   ]
  },
  {
   "cell_type": "markdown",
   "metadata": {},
   "source": [
    "AR(1) process as error \n",
    "\n",
    "Disabled:\n",
    "- no averaging \n",
    "- no lag in explanatory covariates \n",
    "- no seasonality "
   ]
  },
  {
   "cell_type": "code",
   "execution_count": null,
   "metadata": {},
   "outputs": [],
   "source": [
    "import statsmodels.api as sm\n",
    "\n",
    "armax = sm.tsa.statespace.SARIMAX(Y, X, order=(1,0,0))\n",
    "armax_fit = armax.fit(disp=False)"
   ]
  },
  {
   "cell_type": "code",
   "execution_count": null,
   "metadata": {},
   "outputs": [],
   "source": [
    "armax_forecast = armax_fit.get_forecast(len(clean_test), exog=clean_test.loc[:, clean_test.columns != \"water_temp\"])"
   ]
  },
  {
   "cell_type": "code",
   "execution_count": null,
   "metadata": {},
   "outputs": [],
   "source": [
    "prediction = pd.DataFrame(data={\"time\": clean_test.index, \"0\":armax_forecast.predicted_mean}).set_index(\"time\")"
   ]
  },
  {
   "cell_type": "code",
   "execution_count": null,
   "metadata": {},
   "outputs": [],
   "source": [
    "plot_test_vs_truth(prediction, dropna=False)"
   ]
  },
  {
   "cell_type": "markdown",
   "metadata": {},
   "source": [
    "#### Random Forest\n",
    "\n",
    "We use all default settings (`n_ensembles` aka the number of trees = 100, `max_features` aka the number of features to split on = sqrt(n_features))"
   ]
  },
  {
   "cell_type": "code",
   "execution_count": null,
   "metadata": {},
   "outputs": [],
   "source": [
    "from sklearn.ensemble import RandomForestRegressor\n",
    "# train model\n",
    "rf = RandomForestRegressor()\n",
    "rf.fit(X,Y)"
   ]
  },
  {
   "cell_type": "code",
   "execution_count": null,
   "metadata": {},
   "outputs": [],
   "source": [
    "# Test model\n",
    "prediction_labels = rf.predict(clean_test.loc[:, data.columns!=\"water_temp\"])\n",
    "prediction = pd.DataFrame(prediction_labels)\n",
    "prediction[\"time\"] = clean_test.index\n",
    "prediction = prediction.set_index(\"time\")"
   ]
  },
  {
   "cell_type": "code",
   "execution_count": null,
   "metadata": {},
   "outputs": [],
   "source": [
    "plot_test_vs_truth(prediction, dropna=False)"
   ]
  },
  {
   "cell_type": "code",
   "execution_count": null,
   "metadata": {},
   "outputs": [],
   "source": [
    "importance_values = rf.feature_importances_\n",
    "importance = pd.DataFrame(importance_values, columns=[\"importance\"])\n",
    "importance[\"element\"] = X.columns\n",
    "importance = importance.set_index(\"element\")\n",
    "importance = importance.sort_values(by=\"importance\", ascending=False)\n",
    "importance"
   ]
  },
  {
   "cell_type": "markdown",
   "metadata": {},
   "source": [
    "#### XGBoost\n",
    "\n",
    "Using only default, however parameter tuning would be important for boosting though.\n"
   ]
  },
  {
   "cell_type": "code",
   "execution_count": null,
   "metadata": {},
   "outputs": [],
   "source": [
    "from xgboost import XGBRegressor\n",
    "# train model\n",
    "xgb = XGBRegressor()\n",
    "xgb.fit(X,Y)"
   ]
  },
  {
   "cell_type": "code",
   "execution_count": null,
   "metadata": {},
   "outputs": [],
   "source": [
    "# Test model\n",
    "prediction_labels = xgb.predict(clean_test.loc[:, data.columns!=\"water_temp\"])\n",
    "prediction = pd.DataFrame(prediction_labels)\n",
    "prediction[\"time\"] = clean_test.index\n",
    "prediction = prediction.set_index(\"time\")"
   ]
  },
  {
   "cell_type": "code",
   "execution_count": null,
   "metadata": {},
   "outputs": [],
   "source": [
    "plot_test_vs_truth(prediction, dropna=False)"
   ]
  },
  {
   "cell_type": "markdown",
   "metadata": {},
   "source": [
    "### Neural Nets"
   ]
  },
  {
   "cell_type": "code",
   "execution_count": null,
   "metadata": {},
   "outputs": [],
   "source": [
    "import tensorflow as tf\n",
    "from tensorflow import keras\n",
    "from tensorflow.keras import layers\n",
    "from tensorflow.keras.layers.experimental import preprocessing\n",
    "\n",
    "# NOTE: without a normalizer the results are shifted\n",
    "normalizer = preprocessing.Normalization()\n",
    "normalizer.adapt(np.array(X))\n",
    "\n",
    "# Building the neural net\n",
    "# NOTE: The design of the net has major influence on the results!\n",
    "# For details see documentation of tensorflow\n",
    "model = tf.keras.Sequential([\n",
    "    normalizer,\n",
    "    layers.Dense(10, activation=\"relu\"),\n",
    "    layers.Dense(10, activation=\"relu\"),\n",
    "    layers.Dense(5),\n",
    "    layers.Dense(units=1)\n",
    "])\n",
    "\n",
    "# Configuring with loss function and optimization algorithm\n",
    "model.compile(\n",
    "    optimizer=tf.optimizers.Adam(learning_rate=0.1),\n",
    "    loss='mean_absolute_error')\n",
    "\n",
    "# Training\n",
    "# NOTE: The training results are very random such that the results from every run are fundamentally different\n",
    "model.fit(X, Y,\n",
    "    epochs=200,\n",
    "    verbose=0,\n",
    "    validation_split = 0.2)"
   ]
  },
  {
   "cell_type": "code",
   "execution_count": null,
   "metadata": {},
   "outputs": [],
   "source": [
    "#test\n",
    "prediction_labels = model.predict(test.loc[:, data.columns!=\"water_temp\"])\n",
    "prediction = pd.DataFrame(prediction_labels)\n",
    "prediction[\"time\"] = test.index\n",
    "prediction = prediction.set_index(\"time\")"
   ]
  },
  {
   "cell_type": "code",
   "execution_count": null,
   "metadata": {},
   "outputs": [],
   "source": [
    "plot_test_vs_truth(prediction)"
   ]
  },
  {
   "cell_type": "markdown",
   "metadata": {},
   "source": [
    "#### LSTM "
   ]
  },
  {
   "cell_type": "code",
   "execution_count": null,
   "metadata": {},
   "outputs": [],
   "source": [
    "assert(data.shape[1]<=10), \"LSTM is not compatible with 'add_prev_feature' - please use the non-modified feature set!\""
   ]
  },
  {
   "cell_type": "markdown",
   "metadata": {},
   "source": [
    "ATTENTION: Downgrading of numpy (1.19.5) was required for LSTM!"
   ]
  },
  {
   "cell_type": "code",
   "execution_count": null,
   "metadata": {},
   "outputs": [],
   "source": [
    "np.__version__"
   ]
  },
  {
   "cell_type": "code",
   "execution_count": null,
   "metadata": {},
   "outputs": [],
   "source": [
    "X_array = np.array(X)\n",
    "X_array = X_array.reshape((X_array.shape[0],1,X_array.shape[1]))\n",
    "\n",
    "Y_array = np.array(Y)"
   ]
  },
  {
   "cell_type": "code",
   "execution_count": null,
   "metadata": {},
   "outputs": [],
   "source": [
    "# TODO: Normalize data!"
   ]
  },
  {
   "cell_type": "code",
   "execution_count": null,
   "metadata": {},
   "outputs": [],
   "source": [
    "model = tf.keras.Sequential()\n",
    "model.add(layers.LSTM(32, return_sequences=True, input_shape=(1,9)))\n",
    "model.add(layers.Dense(units=1))\n",
    "model.compile(loss='mean_squared_error', optimizer='adam')"
   ]
  },
  {
   "cell_type": "code",
   "execution_count": null,
   "metadata": {},
   "outputs": [],
   "source": [
    "model.fit(X_array, Y_array, epochs=100)"
   ]
  },
  {
   "cell_type": "code",
   "execution_count": null,
   "metadata": {},
   "outputs": [],
   "source": [
    "test_array = np.array(clean_test.loc[:, data.columns!=\"water_temp\"])\n",
    "test_array = test_array.reshape((test_array.shape[0],1,test_array.shape[1]))\n",
    "\n",
    "prediction = model.predict(test_array).flatten()"
   ]
  },
  {
   "cell_type": "code",
   "execution_count": null,
   "metadata": {},
   "outputs": [],
   "source": [
    "plot_test_vs_truth(prediction, dropna=False)"
   ]
  }
 ],
 "metadata": {
  "kernelspec": {
   "display_name": "Python 3.7.12 ('datadriven')",
   "language": "python",
   "name": "python3"
  },
  "language_info": {
   "codemirror_mode": {
    "name": "ipython",
    "version": 3
   },
   "file_extension": ".py",
   "mimetype": "text/x-python",
   "name": "python",
   "nbconvert_exporter": "python",
   "pygments_lexer": "ipython3",
   "version": "3.7.10"
  },
  "orig_nbformat": 4,
  "vscode": {
   "interpreter": {
    "hash": "171b1061786da52a2bb1c28f731fa9df9233a5132702a3a8172a3a98f83e069e"
   }
  }
 },
 "nbformat": 4,
 "nbformat_minor": 2
}
